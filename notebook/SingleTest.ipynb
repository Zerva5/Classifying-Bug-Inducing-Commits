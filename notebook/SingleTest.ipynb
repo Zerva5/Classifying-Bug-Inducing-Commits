{
 "cells": [
  {
   "cell_type": "code",
   "execution_count": 1,
   "metadata": {},
   "outputs": [],
   "source": [
    "import os\n",
    "os.environ['TF_CPP_MIN_LOG_LEVEL'] = '3'\n",
    "os.environ['OMP_NUM_THREADS'] = '3'\n",
    "os.environ['KMP_BLOCKTIME'] = '1'\n",
    "import numpy as np\n",
    "import gc\n",
    "from tqdm.auto import tqdm\n",
    "from dataset import get_labelled, get_unlabelled, _preload, _unload, unlabelled_generator, rendred_unlabelled_generator\n",
    "from render_lookups import render_lookups, render_examples, get_rendered_examples\n",
    "from Commit import CommitFactory\n",
    "from Model import CommitDiffModelFactory\n",
    "import tensorflow as tf"
   ]
  },
  {
   "cell_type": "code",
   "execution_count": 2,
   "metadata": {},
   "outputs": [],
   "source": [
    "##### META PARAMS #####\n",
    "\n",
    "# If these two change, the data must be re-rendered!\n",
    "##########################################\n",
    "\n",
    "#Size / depth / length of each individual context/path\n",
    "CONTEXT_SIZE = 8\n",
    "\n",
    "#Total number of contexts to sample per bag\n",
    "BAG_SIZE = 128\n",
    "\n",
    "##########################################\n",
    "\n",
    "#Encoder to use\n",
    "ENCODER = 0\n",
    "\n",
    "#Size of fixed length vector to encode to\n",
    "OUTPUT_SIZE = 512\n",
    "\n",
    "# Hard limit to filter bags by. Bags which exceed this size won't even be sampled.\n",
    "# Set to None to turn off\n",
    "MAX_BAG_SIZE_FILTER = 2048\n",
    "\n",
    "#Maximum number of labelled commits to train on\n",
    "MAX_LABELLED_COMMITS = 4096 * 8\n",
    "\n",
    "#Maximum number of unlabelled commits to train on\n",
    "MAX_UNLABELLED_COMMITS = 4096 * 8 * 8\n",
    "\n",
    "#Batch size for unsupervised training. Higher = faster/better but more memory required\n",
    "SIAM_BATCH_SIZE = 4096\n",
    "SIAM_BATCHES_PER_UPDATE = 2"
   ]
  },
  {
   "cell_type": "code",
   "execution_count": 3,
   "metadata": {},
   "outputs": [],
   "source": [
    "Commit = CommitFactory(BAG_SIZE=BAG_SIZE, CONTEXT_SIZE=CONTEXT_SIZE)"
   ]
  },
  {
   "cell_type": "code",
   "execution_count": null,
   "metadata": {},
   "outputs": [],
   "source": [
    "render_lookups(BAG_SIZE=BAG_SIZE, CONTEXT_SIZE=CONTEXT_SIZE)"
   ]
  },
  {
   "cell_type": "code",
   "execution_count": null,
   "metadata": {},
   "outputs": [],
   "source": [
    "render_examples(BAG_SIZE=BAG_SIZE, CONTEXT_SIZE=CONTEXT_SIZE)"
   ]
  },
  {
   "cell_type": "code",
   "execution_count": 4,
   "metadata": {},
   "outputs": [],
   "source": [
    "output_types = (tf.float32, tf.float32)\n",
    "output_shapes = ((BAG_SIZE, CONTEXT_SIZE), (BAG_SIZE, CONTEXT_SIZE))\n",
    "\n",
    "dataset = tf.data.Dataset.from_generator(\n",
    "    rendred_unlabelled_generator,\n",
    "    output_types=output_types,\n",
    "    output_shapes=output_shapes,\n",
    "    args=(BAG_SIZE, CONTEXT_SIZE, MAX_UNLABELLED_COMMITS, MAX_BAG_SIZE_FILTER)\n",
    ")\n",
    "\n",
    "dataset = dataset.batch(SIAM_BATCH_SIZE)"
   ]
  },
  {
   "cell_type": "code",
   "execution_count": 5,
   "metadata": {},
   "outputs": [],
   "source": [
    "CommitDiffModel = CommitDiffModelFactory(BAG_SIZE=BAG_SIZE, CONTEXT_SIZE=CONTEXT_SIZE, OUTPUT_SIZE=OUTPUT_SIZE)"
   ]
  },
  {
   "cell_type": "code",
   "execution_count": 6,
   "metadata": {},
   "outputs": [],
   "source": [
    "model = CommitDiffModel(unsupervised_data_size = MAX_UNLABELLED_COMMITS, siam_batch_size = SIAM_BATCH_SIZE, steps_per_update = SIAM_BATCHES_PER_UPDATE)\n",
    "model.initialize(encoder=12)"
   ]
  },
  {
   "cell_type": "code",
   "execution_count": null,
   "metadata": {},
   "outputs": [
    {
     "name": "stdout",
     "output_type": "stream",
     "text": [
      "Epoch 1/64\n",
      "64/64 [==============================] - 158s 2s/step - loss: -0.5487\n",
      "Epoch 2/64\n",
      "64/64 [==============================] - 165s 3s/step - loss: -0.6270\n",
      "Epoch 3/64\n",
      "64/64 [==============================] - 155s 2s/step - loss: -0.6319\n",
      "Epoch 4/64\n",
      "64/64 [==============================] - 154s 2s/step - loss: -0.6312\n",
      "Epoch 5/64\n",
      "64/64 [==============================] - 142s 2s/step - loss: -0.6324\n",
      "Epoch 6/64\n",
      "64/64 [==============================] - 141s 2s/step - loss: -0.6362\n",
      "Epoch 7/64\n",
      "64/64 [==============================] - 142s 2s/step - loss: -0.6377\n",
      "Epoch 8/64\n",
      "64/64 [==============================] - 141s 2s/step - loss: -0.6374\n",
      "Epoch 9/64\n",
      "64/64 [==============================] - 141s 2s/step - loss: -0.6388\n",
      "Epoch 10/64\n",
      "64/64 [==============================] - 150s 2s/step - loss: -0.6404\n",
      "Epoch 11/64\n",
      "64/64 [==============================] - 149s 2s/step - loss: -0.6403\n",
      "Epoch 12/64\n",
      "64/64 [==============================] - 158s 2s/step - loss: -0.6423\n",
      "Epoch 13/64\n",
      "64/64 [==============================] - 185s 3s/step - loss: -0.6437\n",
      "Epoch 14/64\n",
      "64/64 [==============================] - 186s 3s/step - loss: -0.6436\n",
      "Epoch 15/64\n",
      "64/64 [==============================] - 196s 3s/step - loss: -0.6440\n",
      "Epoch 16/64\n",
      "64/64 [==============================] - 169s 3s/step - loss: -0.6433\n",
      "Epoch 17/64\n",
      "64/64 [==============================] - 151s 2s/step - loss: -0.6430\n",
      "Epoch 18/64\n",
      "64/64 [==============================] - 174s 3s/step - loss: -0.6425\n",
      "Epoch 19/64\n",
      "64/64 [==============================] - 147s 2s/step - loss: -0.6422\n",
      "Epoch 20/64\n",
      "64/64 [==============================] - 162s 2s/step - loss: -0.6441\n",
      "Epoch 21/64\n",
      "64/64 [==============================] - 167s 3s/step - loss: -0.6427\n",
      "Epoch 22/64\n",
      "64/64 [==============================] - 159s 2s/step - loss: -0.6427\n",
      "Epoch 23/64\n",
      "64/64 [==============================] - 152s 2s/step - loss: -0.6434\n",
      "Epoch 24/64\n",
      "64/64 [==============================] - 159s 2s/step - loss: -0.6442\n",
      "Epoch 25/64\n",
      "64/64 [==============================] - 148s 2s/step - loss: -0.6444\n",
      "Epoch 26/64\n",
      "64/64 [==============================] - 163s 3s/step - loss: -0.6443\n",
      "Epoch 27/64\n",
      "64/64 [==============================] - 168s 3s/step - loss: -0.6439\n",
      "Epoch 28/64\n",
      "64/64 [==============================] - 148s 2s/step - loss: -0.6436\n",
      "Epoch 29/64\n",
      "64/64 [==============================] - 149s 2s/step - loss: -0.6442\n",
      "Epoch 30/64\n",
      "64/64 [==============================] - 175s 3s/step - loss: -0.6437\n",
      "Epoch 31/64\n",
      "38/64 [================>.............] - ETA: 58s - loss: -0.6438 "
     ]
    }
   ],
   "source": [
    "unsupervised_data = model.fit_siam_generator(dataset, epochs=64, verbose=1)"
   ]
  },
  {
   "cell_type": "code",
   "execution_count": null,
   "metadata": {},
   "outputs": [],
   "source": [
    "# _preload(max_commits = MAX_LABELLED_COMMITS)"
   ]
  },
  {
   "cell_type": "code",
   "execution_count": null,
   "metadata": {},
   "outputs": [],
   "source": [
    "#X_train, X_test, y_train, y_test = get_labelled(BAG_SIZE=BAG_SIZE, CONTEXT_SIZE=CONTEXT_SIZE)\n",
    "X_train, X_test, y_train, y_test = get_rendered_examples()\n",
    "X_test_1 = [X_test[i] for i in range(len(X_test)) if y_test[i] == 1]\n",
    "y_test_1 = [y_test[i] for i in range(len(X_test)) if y_test[i] == 1]\n",
    "X_test_0 = [X_test[i] for i in range(len(X_test)) if y_test[i] == 0]\n",
    "y_test_0 = [y_test[i] for i in range(len(X_test)) if y_test[i] == 0]"
   ]
  },
  {
   "cell_type": "code",
   "execution_count": null,
   "metadata": {},
   "outputs": [],
   "source": [
    "print(\"Train set size\", len(y_train))\n",
    "print(\"Train set split\", np.sum(y_train)/len(y_train))\n",
    "print(\"Test set size\", len(y_test))\n",
    "print(\"Test set split\", np.sum(y_test)/len(y_test))"
   ]
  },
  {
   "cell_type": "code",
   "execution_count": null,
   "metadata": {},
   "outputs": [],
   "source": [
    "#For memory optimization\n",
    "#_unload()"
   ]
  },
  {
   "cell_type": "code",
   "execution_count": null,
   "metadata": {},
   "outputs": [],
   "source": [
    "supervised_results = model.fit_binary_classification(X_train, np.array(y_train), epochs=32, batch_size=128, verbose=1, validation_data=[X_test, np.array(y_test)])"
   ]
  },
  {
   "cell_type": "code",
   "execution_count": null,
   "metadata": {},
   "outputs": [],
   "source": [
    "score = model.evaluate_binary_classification(X_test, np.array(y_test), verbose=0)\n",
    "print(\"Score:\", score)\n",
    "score1 = model.evaluate_binary_classification(X_test_1, np.array(y_test_1), verbose=0)\n",
    "print(\"Score1:\", score1)\n",
    "score0 = model.evaluate_binary_classification(X_test_0, np.array(y_test_0), verbose=0)\n",
    "print(\"Score0:\", score0)"
   ]
  },
  {
   "cell_type": "code",
   "execution_count": null,
   "metadata": {},
   "outputs": [],
   "source": []
  },
  {
   "cell_type": "code",
   "execution_count": null,
   "metadata": {},
   "outputs": [],
   "source": []
  },
  {
   "cell_type": "code",
   "execution_count": null,
   "metadata": {},
   "outputs": [],
   "source": []
  }
 ],
 "metadata": {
  "kernelspec": {
   "display_name": "Python 3 (ipykernel)",
   "language": "python",
   "name": "python3"
  },
  "language_info": {
   "codemirror_mode": {
    "name": "ipython",
    "version": 3
   },
   "file_extension": ".py",
   "mimetype": "text/x-python",
   "name": "python",
   "nbconvert_exporter": "python",
   "pygments_lexer": "ipython3",
   "version": "3.8.10"
  },
  "vscode": {
   "interpreter": {
    "hash": "31f2aee4e71d21fbe5cf8b01ff0e069b9275f58929596ceb00d14d90e3e16cd6"
   }
  }
 },
 "nbformat": 4,
 "nbformat_minor": 4
}
