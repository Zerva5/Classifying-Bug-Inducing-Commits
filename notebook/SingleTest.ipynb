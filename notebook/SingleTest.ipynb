{
 "cells": [
  {
   "cell_type": "code",
   "execution_count": 9,
   "metadata": {},
   "outputs": [],
   "source": [
    "import os\n",
    "os.environ['TF_CPP_MIN_LOG_LEVEL'] = '3'\n",
    "os.environ['OMP_NUM_THREADS'] = '3'\n",
    "os.environ['KMP_BLOCKTIME'] = '1'\n",
    "import numpy as np\n",
    "from dataset import get_labelled, get_unlabelled, _preload\n",
    "from Commit import CommitFactory\n",
    "from Model import CommitDiffModelFactory"
   ]
  },
  {
   "cell_type": "code",
   "execution_count": 10,
   "metadata": {},
   "outputs": [],
   "source": [
    "CONTEXT_SIZE = 16\n",
    "BAG_SIZE = 256\n",
    "ENCODER = 0\n",
    "OUTPUT_SIZE = 256"
   ]
  },
  {
   "cell_type": "code",
   "execution_count": 11,
   "metadata": {},
   "outputs": [],
   "source": [
    "Commit = CommitFactory(BAG_SIZE=BAG_SIZE, CONTEXT_SIZE=CONTEXT_SIZE)\n",
    "CommitDiffModel = CommitDiffModelFactory(BAG_SIZE=BAG_SIZE, CONTEXT_SIZE=CONTEXT_SIZE, OUTPUT_SIZE=OUTPUT_SIZE)"
   ]
  },
  {
   "cell_type": "code",
   "execution_count": 12,
   "metadata": {},
   "outputs": [],
   "source": [
    "_preload(max_commit_bag_size = 8192, max_commits=4096)"
   ]
  },
  {
   "cell_type": "code",
   "execution_count": 5,
   "metadata": {},
   "outputs": [
    {
     "data": {
      "application/vnd.jupyter.widget-view+json": {
       "model_id": "3ec2a19b153e41c0af6c6595275cecb9",
       "version_major": 2,
       "version_minor": 0
      },
      "text/plain": [
       "Generating X_train:   0%|          | 0/97 [00:00<?, ?it/s]"
      ]
     },
     "metadata": {},
     "output_type": "display_data"
    },
    {
     "data": {
      "application/vnd.jupyter.widget-view+json": {
       "model_id": "34d6e5b59d7648fabc4d3a07911e21f5",
       "version_major": 2,
       "version_minor": 0
      },
      "text/plain": [
       "Generating X_train:   0%|          | 0/97 [00:00<?, ?it/s]"
      ]
     },
     "metadata": {},
     "output_type": "display_data"
    },
    {
     "data": {
      "application/vnd.jupyter.widget-view+json": {
       "model_id": "51b6eb5084fa4e3eb28c7c0c50cc9af9",
       "version_major": 2,
       "version_minor": 0
      },
      "text/plain": [
       "Generating X_train:   0%|          | 0/70 [00:00<?, ?it/s]"
      ]
     },
     "metadata": {},
     "output_type": "display_data"
    },
    {
     "data": {
      "application/vnd.jupyter.widget-view+json": {
       "model_id": "ebf4cc936c3542a394f961e60d95a528",
       "version_major": 2,
       "version_minor": 0
      },
      "text/plain": [
       "Generating X_train:   0%|          | 0/70 [00:00<?, ?it/s]"
      ]
     },
     "metadata": {},
     "output_type": "display_data"
    }
   ],
   "source": [
    "X_train, X_test, y_train, y_test = get_labelled(BAG_SIZE=BAG_SIZE, CONTEXT_SIZE=CONTEXT_SIZE)"
   ]
  },
  {
   "cell_type": "code",
   "execution_count": 6,
   "metadata": {},
   "outputs": [
    {
     "data": {
      "application/vnd.jupyter.widget-view+json": {
       "model_id": "ddab84a1dd23431bbb6d3af6108619b0",
       "version_major": 2,
       "version_minor": 0
      },
      "text/plain": [
       "  0%|          | 0/5177 [00:00<?, ?it/s]"
      ]
     },
     "metadata": {},
     "output_type": "display_data"
    }
   ],
   "source": [
    "X_train_unsupervised = get_unlabelled(BAG_SIZE=BAG_SIZE, CONTEXT_SIZE=CONTEXT_SIZE)"
   ]
  },
  {
   "cell_type": "code",
   "execution_count": 7,
   "metadata": {},
   "outputs": [
    {
     "name": "stdout",
     "output_type": "stream",
     "text": [
      "Train set size 132\n",
      "Train set split 0.5833333333333334\n",
      "Test set size 33\n",
      "Test set split 0.5454545454545454\n",
      "Unsupervised Train Size 5177\n"
     ]
    }
   ],
   "source": [
    "print(\"Train set size\", len(y_train))\n",
    "print(\"Train set split\", np.sum(y_train)/len(y_train))\n",
    "print(\"Test set size\", len(y_test))\n",
    "print(\"Test set split\", np.sum(y_test)/len(y_test))\n",
    "print(\"Unsupervised Train Size\", len(X_train_unsupervised))"
   ]
  },
  {
   "cell_type": "code",
   "execution_count": 8,
   "metadata": {},
   "outputs": [],
   "source": [
    "model = CommitDiffModel(unsupervised_data_size = len(X_train_unsupervised))\n",
    "model.initialize(encoder=ENCODER)"
   ]
  },
  {
   "cell_type": "code",
   "execution_count": 9,
   "metadata": {},
   "outputs": [
    {
     "name": "stdout",
     "output_type": "stream",
     "text": [
      "Epoch 1/8\n",
      "WARNING:tensorflow:From /home/brennan/.local/lib/python3.8/site-packages/tensorflow/python/autograph/pyct/static_analysis/liveness.py:83: Analyzer.lamba_check (from tensorflow.python.autograph.pyct.static_analysis.liveness) is deprecated and will be removed after 2023-09-23.\n",
      "Instructions for updating:\n",
      "Lambda fuctions will be no more assumed to be used in the statement where they are used, or at least in the same block. https://github.com/tensorflow/tensorflow/issues/56089\n",
      "81/81 [==============================] - 7s 32ms/step - loss: -0.5725\n",
      "Epoch 2/8\n",
      "81/81 [==============================] - 2s 28ms/step - loss: -0.6486\n",
      "Epoch 3/8\n",
      "81/81 [==============================] - 2s 28ms/step - loss: -0.6650\n",
      "Epoch 4/8\n",
      "81/81 [==============================] - 2s 30ms/step - loss: -0.6838\n",
      "Epoch 5/8\n",
      "81/81 [==============================] - 3s 34ms/step - loss: -0.6941\n",
      "Epoch 6/8\n",
      "81/81 [==============================] - 3s 34ms/step - loss: -0.6769\n",
      "Epoch 7/8\n",
      "81/81 [==============================] - 3s 31ms/step - loss: -0.6930\n",
      "Epoch 8/8\n",
      "81/81 [==============================] - 3s 35ms/step - loss: -0.6999\n"
     ]
    }
   ],
   "source": [
    "model.fit_siam(np.array(X_train_unsupervised), epochs=8, verbose=1)"
   ]
  },
  {
   "cell_type": "code",
   "execution_count": 10,
   "metadata": {},
   "outputs": [
    {
     "name": "stdout",
     "output_type": "stream",
     "text": [
      "Epoch 1/8\n",
      "3/3 [==============================] - 4s 21ms/step - loss: 15871484928.0000\n",
      "Epoch 2/8\n",
      "3/3 [==============================] - 0s 22ms/step - loss: 0.5833\n",
      "Epoch 3/8\n",
      "3/3 [==============================] - 0s 19ms/step - loss: 0.5833\n",
      "Epoch 4/8\n",
      "3/3 [==============================] - 0s 19ms/step - loss: 0.5833\n",
      "Epoch 5/8\n",
      "3/3 [==============================] - 0s 18ms/step - loss: 0.5833\n",
      "Epoch 6/8\n",
      "3/3 [==============================] - 0s 17ms/step - loss: 0.5833\n",
      "Epoch 7/8\n",
      "3/3 [==============================] - 0s 18ms/step - loss: 0.5833\n",
      "Epoch 8/8\n",
      "3/3 [==============================] - 0s 17ms/step - loss: 0.5833\n"
     ]
    }
   ],
   "source": [
    "model.fit_binary_classification(X_train, np.array(y_train), epochs=8, batch_size=64, verbose=1)"
   ]
  },
  {
   "cell_type": "code",
   "execution_count": 11,
   "metadata": {},
   "outputs": [
    {
     "data": {
      "text/plain": [
       "0.5454545617103577"
      ]
     },
     "execution_count": 11,
     "metadata": {},
     "output_type": "execute_result"
    }
   ],
   "source": [
    "model.evaluate_binary_classification(X_test, np.array(y_test), verbose=0)"
   ]
  }
 ],
 "metadata": {
  "kernelspec": {
   "display_name": "Python 3 (ipykernel)",
   "language": "python",
   "name": "python3"
  },
  "language_info": {
   "codemirror_mode": {
    "name": "ipython",
    "version": 3
   },
   "file_extension": ".py",
   "mimetype": "text/x-python",
   "name": "python",
   "nbconvert_exporter": "python",
   "pygments_lexer": "ipython3",
   "version": "3.10.6"
  },
  "vscode": {
   "interpreter": {
    "hash": "31f2aee4e71d21fbe5cf8b01ff0e069b9275f58929596ceb00d14d90e3e16cd6"
   }
  }
 },
 "nbformat": 4,
 "nbformat_minor": 4
}
