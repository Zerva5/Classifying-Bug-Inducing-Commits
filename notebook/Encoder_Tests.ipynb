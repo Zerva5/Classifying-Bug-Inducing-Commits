{
 "cells": [
  {
   "cell_type": "code",
   "execution_count": 1,
   "metadata": {},
   "outputs": [],
   "source": [
    "import os\n",
    "os.environ['TF_CPP_MIN_LOG_LEVEL'] = '3'\n",
    "import numpy as np\n",
    "from tqdm.auto import tqdm\n",
    "from dataset import get_labelled, get_unlabelled, _preload\n",
    "from Commit import CommitFactory\n",
    "from Model import CommitDiffModelFactory"
   ]
  },
  {
   "cell_type": "code",
   "execution_count": 2,
   "metadata": {},
   "outputs": [],
   "source": [
    "CONTEXT_SIZE = 16\n",
    "BAG_SIZE = 512\n",
    "OUTPUT_SIZE = 128"
   ]
  },
  {
   "cell_type": "code",
   "execution_count": 3,
   "metadata": {},
   "outputs": [],
   "source": [
    "Commit = CommitFactory(BAG_SIZE=BAG_SIZE, CONTEXT_SIZE=CONTEXT_SIZE)\n",
    "CommitDiffModel = CommitDiffModelFactory(BAG_SIZE=BAG_SIZE, CONTEXT_SIZE=CONTEXT_SIZE, OUTPUT_SIZE=OUTPUT_SIZE)"
   ]
  },
  {
   "cell_type": "code",
   "execution_count": 4,
   "metadata": {},
   "outputs": [
    {
     "name": "stdout",
     "output_type": "stream",
     "text": [
      "Loading Commit lookup table\n"
     ]
    },
    {
     "data": {
      "application/vnd.jupyter.widget-view+json": {
       "model_id": "0dedc24b162949c1ad10594a9444a034",
       "version_major": 2,
       "version_minor": 0
      },
      "text/plain": [
       "  0%|          | 0/7 [00:00<?, ?it/s]"
      ]
     },
     "metadata": {},
     "output_type": "display_data"
    },
    {
     "name": "stdout",
     "output_type": "stream",
     "text": [
      "Loading file ../data/commit_lookups/supervised_commit_data_lookup0-1000.pickle\n",
      "Appending pickle of length: 184 , new dict length: 184\n",
      "Loading file ../data/commit_lookups/commit_data_lookup77500-80000.pickle\n",
      "Appending pickle of length: 2500 , new dict length: 2684\n",
      "Loading file ../data/commit_lookups/commit_data_lookup75000-77500.pickle\n",
      "Appending pickle of length: 2499 , new dict length: 5183\n",
      "Loading file ../data/commit_lookups/commit_data_lookup12500-15000.pickle\n",
      "Appending pickle of length: 2497 , new dict length: 7579\n",
      "Loading file ../data/commit_lookups/commit_data_lookup72500-75000.pickle\n",
      "Appending pickle of length: 2500 , new dict length: 10023\n",
      "Loading file ../data/commit_lookups/commit_data_lookup10000-12500.pickle\n",
      "Appending pickle of length: 2496 , new dict length: 12372\n",
      "Loading file ../data/commit_lookups/commit_data_lookup70000-72500.pickle\n",
      "Appending pickle of length: 2497 , new dict length: 14777\n"
     ]
    }
   ],
   "source": [
    "_preload()"
   ]
  },
  {
   "cell_type": "code",
   "execution_count": 5,
   "metadata": {},
   "outputs": [
    {
     "data": {
      "application/vnd.jupyter.widget-view+json": {
       "model_id": "d9929d6d462440a3bb1aaf361e1d339f",
       "version_major": 2,
       "version_minor": 0
      },
      "text/plain": [
       "Generating Positive X_train:   0%|          | 0/97 [00:00<?, ?it/s]"
      ]
     },
     "metadata": {},
     "output_type": "display_data"
    },
    {
     "data": {
      "application/vnd.jupyter.widget-view+json": {
       "model_id": "7bc9821af3c34457a32767c9219bd15e",
       "version_major": 2,
       "version_minor": 0
      },
      "text/plain": [
       "Generating Positive y_train:   0%|          | 0/97 [00:00<?, ?it/s]"
      ]
     },
     "metadata": {},
     "output_type": "display_data"
    },
    {
     "data": {
      "application/vnd.jupyter.widget-view+json": {
       "model_id": "baab9b81d7fc4ed584645f60dd760237",
       "version_major": 2,
       "version_minor": 0
      },
      "text/plain": [
       "Generating Negative X_train:   0%|          | 0/70 [00:00<?, ?it/s]"
      ]
     },
     "metadata": {},
     "output_type": "display_data"
    },
    {
     "data": {
      "application/vnd.jupyter.widget-view+json": {
       "model_id": "1f462e5f7f264e1abfb0ec91bbc3dd0c",
       "version_major": 2,
       "version_minor": 0
      },
      "text/plain": [
       "Generating Negative y_train:   0%|          | 0/70 [00:00<?, ?it/s]"
      ]
     },
     "metadata": {},
     "output_type": "display_data"
    }
   ],
   "source": [
    "X_train, X_test, y_train, y_test = get_labelled(BAG_SIZE=BAG_SIZE, CONTEXT_SIZE=CONTEXT_SIZE)"
   ]
  },
  {
   "cell_type": "code",
   "execution_count": 6,
   "metadata": {},
   "outputs": [
    {
     "data": {
      "application/vnd.jupyter.widget-view+json": {
       "model_id": "2d684ada79004e4398c933593fd6de27",
       "version_major": 2,
       "version_minor": 0
      },
      "text/plain": [
       "Generating Unsupervised X_train:   0%|          | 0/14777 [00:00<?, ?it/s]"
      ]
     },
     "metadata": {},
     "output_type": "display_data"
    }
   ],
   "source": [
    "X_train_unsupervised = get_unlabelled(BAG_SIZE=BAG_SIZE, CONTEXT_SIZE=CONTEXT_SIZE)"
   ]
  },
  {
   "cell_type": "code",
   "execution_count": 7,
   "metadata": {},
   "outputs": [
    {
     "name": "stdout",
     "output_type": "stream",
     "text": [
      "Train set size 132\n",
      "Train set split 0.5833333333333334\n",
      "Test set size 33\n",
      "Test set split 0.5454545454545454\n",
      "Unsupervised Train Size 14777\n"
     ]
    }
   ],
   "source": [
    "print(\"Train set size\", len(y_train))\n",
    "print(\"Train set split\", np.sum(y_train)/len(y_train))\n",
    "print(\"Test set size\", len(y_test))\n",
    "print(\"Test set split\", np.sum(y_test)/len(y_test))\n",
    "print(\"Unsupervised Train Size\", len(X_train_unsupervised))"
   ]
  },
  {
   "cell_type": "code",
   "execution_count": null,
   "metadata": {},
   "outputs": [
    {
     "data": {
      "application/vnd.jupyter.widget-view+json": {
       "model_id": "2eb3fbfd4cbe428b95078ca097a5cc18",
       "version_major": 2,
       "version_minor": 0
      },
      "text/plain": [
       "  0%|          | 0/12 [00:00<?, ?it/s]"
      ]
     },
     "metadata": {},
     "output_type": "display_data"
    },
    {
     "name": "stdout",
     "output_type": "stream",
     "text": [
      "Epoch 1/4\n",
      "WARNING:tensorflow:From /home/brennan/.local/lib/python3.8/site-packages/tensorflow/python/autograph/pyct/static_analysis/liveness.py:83: Analyzer.lamba_check (from tensorflow.python.autograph.pyct.static_analysis.liveness) is deprecated and will be removed after 2023-09-23.\n",
      "Instructions for updating:\n",
      "Lambda fuctions will be no more assumed to be used in the statement where they are used, or at least in the same block. https://github.com/tensorflow/tensorflow/issues/56089\n",
      "58/58 [==============================] - 11s 125ms/step - loss: -0.4630\n",
      "Epoch 2/4\n",
      "58/58 [==============================] - 7s 116ms/step - loss: -0.6674\n",
      "Epoch 3/4\n",
      "58/58 [==============================] - 6s 108ms/step - loss: -0.6965\n",
      "Epoch 4/4\n",
      "58/58 [==============================] - 7s 113ms/step - loss: -0.7096\n",
      "Epoch 1/8\n",
      "5/5 [==============================] - 4s 41ms/step - loss: 0.7895\n",
      "Epoch 2/8\n",
      "5/5 [==============================] - 0s 34ms/step - loss: 0.7752\n",
      "Epoch 3/8\n",
      "5/5 [==============================] - 0s 38ms/step - loss: 0.7390\n",
      "Epoch 4/8\n",
      "5/5 [==============================] - 0s 36ms/step - loss: 0.7136\n",
      "Epoch 5/8\n",
      "5/5 [==============================] - 0s 34ms/step - loss: 0.7115\n",
      "Epoch 6/8\n",
      "5/5 [==============================] - 0s 35ms/step - loss: 0.6848\n",
      "Epoch 7/8\n",
      "5/5 [==============================] - 0s 34ms/step - loss: 0.6837\n",
      "Epoch 8/8\n",
      "5/5 [==============================] - 0s 32ms/step - loss: 0.6886\n",
      "Enocder: 0\n",
      "Score: 0.698628842830658\n",
      "Epoch 1/4\n"
     ]
    }
   ],
   "source": [
    "for encoder in tqdm([0,1,7,8,9,10,11,6,2,3,4,5]):\n",
    "    model = CommitDiffModel()\n",
    "    model.initialize(encoder)\n",
    "    model.fit_siam(np.array(X_train_unsupervised), epochs=4, batch_size=256, verbose=1)\n",
    "    model.fit_binary_classification(X_train, np.array(y_train), epochs=8, batch_size=32, verbose=1)\n",
    "    score = model.evaluate_binary_classification(X_test, np.array(y_test), verbose=0)\n",
    "    print(\"Enocder:\", encoder)\n",
    "    print(\"Score:\", score)"
   ]
  },
  {
   "cell_type": "code",
   "execution_count": null,
   "metadata": {},
   "outputs": [],
   "source": []
  },
  {
   "cell_type": "code",
   "execution_count": null,
   "metadata": {},
   "outputs": [],
   "source": []
  }
 ],
 "metadata": {
  "kernelspec": {
   "display_name": "Python 3 (ipykernel)",
   "language": "python",
   "name": "python3"
  },
  "language_info": {
   "codemirror_mode": {
    "name": "ipython",
    "version": 3
   },
   "file_extension": ".py",
   "mimetype": "text/x-python",
   "name": "python",
   "nbconvert_exporter": "python",
   "pygments_lexer": "ipython3",
   "version": "3.8.10"
  },
  "vscode": {
   "interpreter": {
    "hash": "31f2aee4e71d21fbe5cf8b01ff0e069b9275f58929596ceb00d14d90e3e16cd6"
   }
  }
 },
 "nbformat": 4,
 "nbformat_minor": 4
}
