{
 "cells": [
  {
   "cell_type": "code",
   "execution_count": 1,
   "metadata": {},
   "outputs": [],
   "source": [
    "import os\n",
    "os.environ['TF_CPP_MIN_LOG_LEVEL'] = '3'\n",
    "os.environ['OMP_NUM_THREADS'] = '1'\n",
    "os.environ['KMP_BLOCKTIME'] = '1'\n",
    "import numpy as np\n",
    "from tqdm.auto import tqdm\n",
    "from dataset import get_labelled, get_unlabelled, _preload\n",
    "from Commit import CommitFactory\n",
    "from Model import CommitDiffModelFactory"
   ]
  },
  {
   "cell_type": "code",
   "execution_count": 2,
   "metadata": {},
   "outputs": [],
   "source": [
    "CONTEXT_SIZE = 16\n",
    "BAG_SIZE = 512\n",
    "OUTPUT_SIZE = 128"
   ]
  },
  {
   "cell_type": "code",
   "execution_count": 3,
   "metadata": {},
   "outputs": [],
   "source": [
    "Commit = CommitFactory(BAG_SIZE=BAG_SIZE, CONTEXT_SIZE=CONTEXT_SIZE)\n",
    "CommitDiffModel = CommitDiffModelFactory(BAG_SIZE=BAG_SIZE, CONTEXT_SIZE=CONTEXT_SIZE, OUTPUT_SIZE=OUTPUT_SIZE)"
   ]
  },
  {
   "cell_type": "code",
   "execution_count": 4,
   "metadata": {},
   "outputs": [
    {
     "name": "stdout",
     "output_type": "stream",
     "text": [
      "Loading Commit lookup table\n"
     ]
    },
    {
     "data": {
      "application/vnd.jupyter.widget-view+json": {
       "model_id": "1865ec0b0da94649adbe3dd20195daf2",
       "version_major": 2,
       "version_minor": 0
      },
      "text/plain": [
       "  0%|          | 0/7 [00:00<?, ?it/s]"
      ]
     },
     "metadata": {},
     "output_type": "display_data"
    },
    {
     "name": "stdout",
     "output_type": "stream",
     "text": [
      "Loading file ../data/commit_lookups/supervised_commit_data_lookup0-1000.pickle\n",
      "Appending pickle of length: 184 , new dict length: 143\n",
      "Loading file ../data/commit_lookups/commit_data_lookup77500-80000.pickle\n"
     ]
    }
   ],
   "source": [
    "_preload(max_commit_bag_size = 8192, max_commits = 1024)"
   ]
  },
  {
   "cell_type": "code",
   "execution_count": 5,
   "metadata": {},
   "outputs": [
    {
     "data": {
      "application/vnd.jupyter.widget-view+json": {
       "model_id": "df24613b6c334a8e8ac74ae52e8e6e01",
       "version_major": 2,
       "version_minor": 0
      },
      "text/plain": [
       "Generating Positive X_train:   0%|          | 0/97 [00:00<?, ?it/s]"
      ]
     },
     "metadata": {},
     "output_type": "display_data"
    },
    {
     "data": {
      "application/vnd.jupyter.widget-view+json": {
       "model_id": "c72c41cda505403fb63546d3d1189b1b",
       "version_major": 2,
       "version_minor": 0
      },
      "text/plain": [
       "Generating Positive y_train:   0%|          | 0/97 [00:00<?, ?it/s]"
      ]
     },
     "metadata": {},
     "output_type": "display_data"
    },
    {
     "data": {
      "application/vnd.jupyter.widget-view+json": {
       "model_id": "4799e1a43de54805a369b8ac2fab2ab3",
       "version_major": 2,
       "version_minor": 0
      },
      "text/plain": [
       "Generating Negative X_train:   0%|          | 0/70 [00:00<?, ?it/s]"
      ]
     },
     "metadata": {},
     "output_type": "display_data"
    },
    {
     "data": {
      "application/vnd.jupyter.widget-view+json": {
       "model_id": "82cc43dd6c2c4cc9838dd6e86ece3516",
       "version_major": 2,
       "version_minor": 0
      },
      "text/plain": [
       "Generating Negative y_train:   0%|          | 0/70 [00:00<?, ?it/s]"
      ]
     },
     "metadata": {},
     "output_type": "display_data"
    }
   ],
   "source": [
    "X_train, X_test, y_train, y_test = get_labelled(BAG_SIZE=BAG_SIZE, CONTEXT_SIZE=CONTEXT_SIZE)"
   ]
  },
  {
   "cell_type": "code",
   "execution_count": 6,
   "metadata": {},
   "outputs": [
    {
     "data": {
      "application/vnd.jupyter.widget-view+json": {
       "model_id": "18f46c3ba96d443fb57e0404905b3a5e",
       "version_major": 2,
       "version_minor": 0
      },
      "text/plain": [
       "Generating Unsupervised X_train:   0%|          | 0/1024 [00:00<?, ?it/s]"
      ]
     },
     "metadata": {},
     "output_type": "display_data"
    }
   ],
   "source": [
    "X_train_unsupervised = get_unlabelled(BAG_SIZE=BAG_SIZE, CONTEXT_SIZE=CONTEXT_SIZE)"
   ]
  },
  {
   "cell_type": "code",
   "execution_count": 7,
   "metadata": {},
   "outputs": [
    {
     "name": "stdout",
     "output_type": "stream",
     "text": [
      "Train set size 79\n",
      "Train set split 0.620253164556962\n",
      "Test set size 20\n",
      "Test set split 0.6\n",
      "Unsupervised Train Size 1024\n"
     ]
    }
   ],
   "source": [
    "print(\"Train set size\", len(y_train))\n",
    "print(\"Train set split\", np.sum(y_train)/len(y_train))\n",
    "print(\"Test set size\", len(y_test))\n",
    "print(\"Test set split\", np.sum(y_test)/len(y_test))\n",
    "print(\"Unsupervised Train Size\", len(X_train_unsupervised))"
   ]
  },
  {
   "cell_type": "code",
   "execution_count": null,
   "metadata": {},
   "outputs": [
    {
     "data": {
      "application/vnd.jupyter.widget-view+json": {
       "model_id": "7b01200c881b4c93b0a21e5a4ccaf0c4",
       "version_major": 2,
       "version_minor": 0
      },
      "text/plain": [
       "  0%|          | 0/6 [00:00<?, ?it/s]"
      ]
     },
     "metadata": {},
     "output_type": "display_data"
    },
    {
     "name": "stdout",
     "output_type": "stream",
     "text": [
      "Epoch 1/4\n",
      "WARNING:tensorflow:Gradients do not exist for variables ['som_encoder_layer/embedding/embeddings:0', 'som_encoder_layer/conv2d/kernel:0', 'som_encoder_layer/conv2d/bias:0', 'som_encoder_layer/lstm/lstm_cell/kernel:0', 'som_encoder_layer/lstm/lstm_cell/recurrent_kernel:0', 'som_encoder_layer/lstm/lstm_cell/bias:0'] when minimizing the loss. If you're using `model.compile()`, did you forget to provide a `loss` argument?\n",
      "WARNING:tensorflow:Gradients do not exist for variables ['som_encoder_layer/embedding/embeddings:0', 'som_encoder_layer/conv2d/kernel:0', 'som_encoder_layer/conv2d/bias:0', 'som_encoder_layer/lstm/lstm_cell/kernel:0', 'som_encoder_layer/lstm/lstm_cell/recurrent_kernel:0', 'som_encoder_layer/lstm/lstm_cell/bias:0'] when minimizing the loss. If you're using `model.compile()`, did you forget to provide a `loss` argument?\n",
      "WARNING:tensorflow:Gradients do not exist for variables ['som_encoder_layer/embedding/embeddings:0', 'som_encoder_layer/conv2d/kernel:0', 'som_encoder_layer/conv2d/bias:0', 'som_encoder_layer/lstm/lstm_cell/kernel:0', 'som_encoder_layer/lstm/lstm_cell/recurrent_kernel:0', 'som_encoder_layer/lstm/lstm_cell/bias:0'] when minimizing the loss. If you're using `model.compile()`, did you forget to provide a `loss` argument?\n",
      "WARNING:tensorflow:Gradients do not exist for variables ['som_encoder_layer/embedding/embeddings:0', 'som_encoder_layer/conv2d/kernel:0', 'som_encoder_layer/conv2d/bias:0', 'som_encoder_layer/lstm/lstm_cell/kernel:0', 'som_encoder_layer/lstm/lstm_cell/recurrent_kernel:0', 'som_encoder_layer/lstm/lstm_cell/bias:0'] when minimizing the loss. If you're using `model.compile()`, did you forget to provide a `loss` argument?\n",
      "4/4 [==============================] - 17s 4s/step - loss: 0.0167\n",
      "Epoch 2/4\n",
      "4/4 [==============================] - 16s 4s/step - loss: 0.0000e+00\n",
      "Epoch 3/4\n",
      "4/4 [==============================] - 14s 4s/step - loss: 0.0000e+00\n",
      "Epoch 4/4\n",
      "4/4 [==============================] - 14s 4s/step - loss: 0.0000e+00\n",
      "Epoch 1/8\n",
      "WARNING:tensorflow:Gradients do not exist for variables ['som_encoder_layer/embedding/embeddings:0', 'som_encoder_layer/conv2d/kernel:0', 'som_encoder_layer/conv2d/bias:0', 'som_encoder_layer/lstm/lstm_cell/kernel:0', 'som_encoder_layer/lstm/lstm_cell/recurrent_kernel:0', 'som_encoder_layer/lstm/lstm_cell/bias:0'] when minimizing the loss. If you're using `model.compile()`, did you forget to provide a `loss` argument?\n",
      "WARNING:tensorflow:Gradients do not exist for variables ['som_encoder_layer/embedding/embeddings:0', 'som_encoder_layer/conv2d/kernel:0', 'som_encoder_layer/conv2d/bias:0', 'som_encoder_layer/lstm/lstm_cell/kernel:0', 'som_encoder_layer/lstm/lstm_cell/recurrent_kernel:0', 'som_encoder_layer/lstm/lstm_cell/bias:0'] when minimizing the loss. If you're using `model.compile()`, did you forget to provide a `loss` argument?\n",
      "WARNING:tensorflow:Gradients do not exist for variables ['som_encoder_layer/embedding/embeddings:0', 'som_encoder_layer/conv2d/kernel:0', 'som_encoder_layer/conv2d/bias:0', 'som_encoder_layer/lstm/lstm_cell/kernel:0', 'som_encoder_layer/lstm/lstm_cell/recurrent_kernel:0', 'som_encoder_layer/lstm/lstm_cell/bias:0'] when minimizing the loss. If you're using `model.compile()`, did you forget to provide a `loss` argument?\n",
      "WARNING:tensorflow:Gradients do not exist for variables ['som_encoder_layer/embedding/embeddings:0', 'som_encoder_layer/conv2d/kernel:0', 'som_encoder_layer/conv2d/bias:0', 'som_encoder_layer/lstm/lstm_cell/kernel:0', 'som_encoder_layer/lstm/lstm_cell/recurrent_kernel:0', 'som_encoder_layer/lstm/lstm_cell/bias:0'] when minimizing the loss. If you're using `model.compile()`, did you forget to provide a `loss` argument?\n",
      "3/3 [==============================] - 3s 351ms/step - loss: 0.7980\n",
      "Epoch 2/8\n",
      "3/3 [==============================] - 1s 363ms/step - loss: 0.7542\n",
      "Epoch 3/8\n",
      "3/3 [==============================] - 1s 369ms/step - loss: 0.7126\n",
      "Epoch 4/8\n",
      "3/3 [==============================] - 1s 353ms/step - loss: 0.6661\n",
      "Epoch 5/8\n",
      "3/3 [==============================] - 1s 368ms/step - loss: 0.7283\n",
      "Epoch 6/8\n",
      "3/3 [==============================] - 1s 351ms/step - loss: 0.6606\n",
      "Epoch 7/8\n",
      "3/3 [==============================] - 1s 352ms/step - loss: 0.7046\n",
      "Epoch 8/8\n",
      "3/3 [==============================] - 1s 373ms/step - loss: 0.7066\n",
      "Enocder: 6\n",
      "Score: 0.6865030527114868\n",
      "------------------------------------------\n",
      "Epoch 1/4\n",
      "3/4 [=====================>........] - ETA: 22s - loss: 0.0301"
     ]
    }
   ],
   "source": [
    "for encoder in tqdm([6,8,9,10,11,7]):\n",
    "    try:\n",
    "        \n",
    "        model = CommitDiffModel()\n",
    "        model.initialize(encoder)\n",
    "        model.fit_siam(np.array(X_train_unsupervised), epochs=4, batch_size=256, verbose=1)\n",
    "        model.fit_binary_classification(X_train, np.array(y_train), epochs=8, batch_size=32, verbose=1)\n",
    "        score = model.evaluate_binary_classification(X_test, np.array(y_test), verbose=0)\n",
    "        print(\"Enocder:\", encoder)\n",
    "        print(\"Score:\", score)\n",
    "    except Exception as e:\n",
    "        print(e)\n",
    "    print(\"------------------------------------------\")"
   ]
  },
  {
   "cell_type": "code",
   "execution_count": null,
   "metadata": {},
   "outputs": [],
   "source": []
  },
  {
   "cell_type": "code",
   "execution_count": null,
   "metadata": {},
   "outputs": [],
   "source": []
  }
 ],
 "metadata": {
  "kernelspec": {
   "display_name": "Python 3 (ipykernel)",
   "language": "python",
   "name": "python3"
  },
  "language_info": {
   "codemirror_mode": {
    "name": "ipython",
    "version": 3
   },
   "file_extension": ".py",
   "mimetype": "text/x-python",
   "name": "python",
   "nbconvert_exporter": "python",
   "pygments_lexer": "ipython3",
   "version": "3.8.10"
  },
  "vscode": {
   "interpreter": {
    "hash": "31f2aee4e71d21fbe5cf8b01ff0e069b9275f58929596ceb00d14d90e3e16cd6"
   }
  }
 },
 "nbformat": 4,
 "nbformat_minor": 4
}
