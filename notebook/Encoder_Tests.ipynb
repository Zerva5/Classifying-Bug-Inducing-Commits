{
 "cells": [
  {
   "cell_type": "code",
   "execution_count": 1,
   "metadata": {},
   "outputs": [],
   "source": [
    "import os\n",
    "os.environ['TF_CPP_MIN_LOG_LEVEL'] = '3'\n",
    "os.environ['OMP_NUM_THREADS'] = '3'\n",
    "os.environ['KMP_BLOCKTIME'] = '1'\n",
    "import numpy as np\n",
    "from tqdm.auto import tqdm\n",
    "from dataset import get_labelled, get_unlabelled, _preload\n",
    "from Commit import CommitFactory\n",
    "from Model import CommitDiffModelFactory"
   ]
  },
  {
   "cell_type": "code",
   "execution_count": 2,
   "metadata": {},
   "outputs": [],
   "source": [
    "CONTEXT_SIZE = 16\n",
    "BAG_SIZE = 512\n",
    "OUTPUT_SIZE = 128"
   ]
  },
  {
   "cell_type": "code",
   "execution_count": 3,
   "metadata": {},
   "outputs": [],
   "source": [
    "Commit = CommitFactory(BAG_SIZE=BAG_SIZE, CONTEXT_SIZE=CONTEXT_SIZE)\n",
    "CommitDiffModel = CommitDiffModelFactory(BAG_SIZE=BAG_SIZE, CONTEXT_SIZE=CONTEXT_SIZE, OUTPUT_SIZE=OUTPUT_SIZE)"
   ]
  },
  {
   "cell_type": "code",
   "execution_count": 4,
   "metadata": {},
   "outputs": [
    {
     "name": "stdout",
     "output_type": "stream",
     "text": [
      "Loading Commit lookup table\n"
     ]
    },
    {
     "data": {
      "application/vnd.jupyter.widget-view+json": {
       "model_id": "bb28492d71ef43ac88a4d8b9bf640621",
       "version_major": 2,
       "version_minor": 0
      },
      "text/plain": [
       "  0%|          | 0/7 [00:00<?, ?it/s]"
      ]
     },
     "metadata": {},
     "output_type": "display_data"
    },
    {
     "name": "stdout",
     "output_type": "stream",
     "text": [
      "Loading file ../data/commit_lookups/supervised_commit_data_lookup0-1000.pickle\n",
      "Appending pickle of length: 184 , new dict length: 126\n",
      "Loading file ../data/commit_lookups/commit_data_lookup77500-80000.pickle\n",
      "Appending pickle of length: 2500 , new dict length: 2407\n",
      "Loading file ../data/commit_lookups/commit_data_lookup75000-77500.pickle\n"
     ]
    }
   ],
   "source": [
    "_preload(max_commit_bag_size = 4096, max_commits = 4096)"
   ]
  },
  {
   "cell_type": "code",
   "execution_count": 5,
   "metadata": {},
   "outputs": [
    {
     "data": {
      "application/vnd.jupyter.widget-view+json": {
       "model_id": "91f8a365067c42f7aeddd3e929bb1ca7",
       "version_major": 2,
       "version_minor": 0
      },
      "text/plain": [
       "Generating Positive X_train:   0%|          | 0/97 [00:00<?, ?it/s]"
      ]
     },
     "metadata": {},
     "output_type": "display_data"
    },
    {
     "data": {
      "application/vnd.jupyter.widget-view+json": {
       "model_id": "b4ee23cd134e4e7da39492a07d9cdb33",
       "version_major": 2,
       "version_minor": 0
      },
      "text/plain": [
       "Generating Positive y_train:   0%|          | 0/97 [00:00<?, ?it/s]"
      ]
     },
     "metadata": {},
     "output_type": "display_data"
    },
    {
     "data": {
      "application/vnd.jupyter.widget-view+json": {
       "model_id": "b65ae34340044a70a7afd7958ecd016c",
       "version_major": 2,
       "version_minor": 0
      },
      "text/plain": [
       "Generating Negative X_train:   0%|          | 0/70 [00:00<?, ?it/s]"
      ]
     },
     "metadata": {},
     "output_type": "display_data"
    },
    {
     "data": {
      "application/vnd.jupyter.widget-view+json": {
       "model_id": "3099dea646f8491db48c6d10d10facd8",
       "version_major": 2,
       "version_minor": 0
      },
      "text/plain": [
       "Generating Negative y_train:   0%|          | 0/70 [00:00<?, ?it/s]"
      ]
     },
     "metadata": {},
     "output_type": "display_data"
    }
   ],
   "source": [
    "X_train, X_test, y_train, y_test = get_labelled(BAG_SIZE=BAG_SIZE, CONTEXT_SIZE=CONTEXT_SIZE)"
   ]
  },
  {
   "cell_type": "code",
   "execution_count": 6,
   "metadata": {},
   "outputs": [
    {
     "data": {
      "application/vnd.jupyter.widget-view+json": {
       "model_id": "81faa018be7641c0a797091485ad8af3",
       "version_major": 2,
       "version_minor": 0
      },
      "text/plain": [
       "Generating Unsupervised X_train:   0%|          | 0/4096 [00:00<?, ?it/s]"
      ]
     },
     "metadata": {},
     "output_type": "display_data"
    }
   ],
   "source": [
    "X_train_unsupervised = get_unlabelled(BAG_SIZE=BAG_SIZE, CONTEXT_SIZE=CONTEXT_SIZE)"
   ]
  },
  {
   "cell_type": "code",
   "execution_count": 7,
   "metadata": {},
   "outputs": [
    {
     "name": "stdout",
     "output_type": "stream",
     "text": [
      "Train set size 66\n",
      "Train set split 0.5606060606060606\n",
      "Test set size 17\n",
      "Test set split 0.7058823529411765\n",
      "Unsupervised Train Size 4096\n"
     ]
    }
   ],
   "source": [
    "print(\"Train set size\", len(y_train))\n",
    "print(\"Train set split\", np.sum(y_train)/len(y_train))\n",
    "print(\"Test set size\", len(y_test))\n",
    "print(\"Test set split\", np.sum(y_test)/len(y_test))\n",
    "print(\"Unsupervised Train Size\", len(X_train_unsupervised))"
   ]
  },
  {
   "cell_type": "code",
   "execution_count": null,
   "metadata": {},
   "outputs": [
    {
     "data": {
      "application/vnd.jupyter.widget-view+json": {
       "model_id": "5c4284077a3c4a66b3734ca0951470ce",
       "version_major": 2,
       "version_minor": 0
      },
      "text/plain": [
       "  0%|          | 0/12 [00:00<?, ?it/s]"
      ]
     },
     "metadata": {},
     "output_type": "display_data"
    },
    {
     "name": "stdout",
     "output_type": "stream",
     "text": [
      "Epoch 1/4\n",
      "8/8 [==============================] - 6s 288ms/step - loss: -0.1368\n",
      "Epoch 2/4\n",
      "8/8 [==============================] - 2s 298ms/step - loss: -0.3854\n",
      "Epoch 3/4\n",
      "8/8 [==============================] - 2s 282ms/step - loss: -0.4951\n",
      "Epoch 4/4\n",
      "8/8 [==============================] - 2s 267ms/step - loss: -0.5298\n",
      "Epoch 1/8\n",
      "9/9 [==============================] - 4s 28ms/step - loss: 0.7920\n",
      "Epoch 2/8\n",
      "9/9 [==============================] - 0s 24ms/step - loss: 0.7302\n",
      "Epoch 3/8\n",
      "9/9 [==============================] - 0s 30ms/step - loss: 0.6906\n",
      "Epoch 4/8\n",
      "9/9 [==============================] - 0s 26ms/step - loss: 0.7382\n",
      "Epoch 5/8\n",
      "9/9 [==============================] - 0s 26ms/step - loss: 0.7434\n",
      "Epoch 6/8\n",
      "9/9 [==============================] - 0s 25ms/step - loss: 0.7159\n",
      "Epoch 7/8\n",
      "9/9 [==============================] - 0s 27ms/step - loss: 0.6779\n",
      "Epoch 8/8\n",
      "9/9 [==============================] - 0s 25ms/step - loss: 0.6665\n",
      "Enocder: 0\n",
      "Score: 0.6251628994941711\n",
      "------------------------------------------\n",
      "Epoch 1/4\n"
     ]
    }
   ],
   "source": [
    "for encoder in tqdm(range(12)):\n",
    "    try:\n",
    "        \n",
    "        model = CommitDiffModel(unsupervised_data_size = len(X_train_unsupervised))\n",
    "        model.initialize(encoder=encoder)\n",
    "        model.fit_siam(np.array(X_train_unsupervised), epochs=4, batch_size=512, verbose=1)\n",
    "        model.fit_binary_classification(X_train, np.array(y_train), epochs=8, batch_size=8, verbose=1)\n",
    "        score = model.evaluate_binary_classification(X_test, np.array(y_test), verbose=0)\n",
    "        print(\"Enocder:\", encoder)\n",
    "        print(\"Score:\", score)\n",
    "    except Exception as e:\n",
    "        print(e)\n",
    "    print(\"------------------------------------------\")"
   ]
  },
  {
   "cell_type": "code",
   "execution_count": null,
   "metadata": {},
   "outputs": [],
   "source": []
  },
  {
   "cell_type": "code",
   "execution_count": null,
   "metadata": {},
   "outputs": [],
   "source": []
  }
 ],
 "metadata": {
  "kernelspec": {
   "display_name": "Python 3 (ipykernel)",
   "language": "python",
   "name": "python3"
  },
  "language_info": {
   "codemirror_mode": {
    "name": "ipython",
    "version": 3
   },
   "file_extension": ".py",
   "mimetype": "text/x-python",
   "name": "python",
   "nbconvert_exporter": "python",
   "pygments_lexer": "ipython3",
   "version": "3.8.10"
  },
  "vscode": {
   "interpreter": {
    "hash": "31f2aee4e71d21fbe5cf8b01ff0e069b9275f58929596ceb00d14d90e3e16cd6"
   }
  }
 },
 "nbformat": 4,
 "nbformat_minor": 4
}
