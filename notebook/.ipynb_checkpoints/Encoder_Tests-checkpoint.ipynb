{
 "cells": [
  {
   "cell_type": "code",
   "execution_count": 1,
   "metadata": {},
   "outputs": [],
   "source": [
    "import os\n",
    "os.environ['TF_CPP_MIN_LOG_LEVEL'] = '3'\n",
    "os.environ['OMP_NUM_THREADS'] = '3'\n",
    "os.environ['KMP_BLOCKTIME'] = '1'\n",
    "import numpy as np\n",
    "from tqdm.auto import tqdm\n",
    "from dataset import get_labelled, get_unlabelled, _preload\n",
    "from Commit import CommitFactory\n",
    "from Model import CommitDiffModelFactory"
   ]
  },
  {
   "cell_type": "code",
   "execution_count": 2,
   "metadata": {},
   "outputs": [],
   "source": [
    "CONTEXT_SIZE = 16\n",
    "BAG_SIZE = 512\n",
    "OUTPUT_SIZE = 256"
   ]
  },
  {
   "cell_type": "code",
   "execution_count": 3,
   "metadata": {},
   "outputs": [],
   "source": [
    "Commit = CommitFactory(BAG_SIZE=BAG_SIZE, CONTEXT_SIZE=CONTEXT_SIZE)\n",
    "CommitDiffModel = CommitDiffModelFactory(BAG_SIZE=BAG_SIZE, CONTEXT_SIZE=CONTEXT_SIZE, OUTPUT_SIZE=OUTPUT_SIZE)"
   ]
  },
  {
   "cell_type": "code",
   "execution_count": 4,
   "metadata": {},
   "outputs": [
    {
     "name": "stdout",
     "output_type": "stream",
     "text": [
      "Loading Commit lookup table\n"
     ]
    },
    {
     "data": {
      "application/vnd.jupyter.widget-view+json": {
       "model_id": "b99530d3dc474c26b2b26f1f6dd891be",
       "version_major": 2,
       "version_minor": 0
      },
      "text/plain": [
       "  0%|          | 0/7 [00:00<?, ?it/s]"
      ]
     },
     "metadata": {},
     "output_type": "display_data"
    },
    {
     "name": "stdout",
     "output_type": "stream",
     "text": [
      "Loading file ../data/commit_lookups/supervised_commit_data_lookup0-1000.pickle\n",
      "Appending pickle of length: 184 , new dict length: 100\n",
      "Loading file ../data/commit_lookups/commit_data_lookup77500-80000.pickle\n",
      "Appending pickle of length: 2500 , new dict length: 2185\n",
      "Loading file ../data/commit_lookups/commit_data_lookup75000-77500.pickle\n",
      "Appending pickle of length: 2499 , new dict length: 4208\n",
      "Loading file ../data/commit_lookups/commit_data_lookup12500-15000.pickle\n",
      "Appending pickle of length: 2497 , new dict length: 6144\n",
      "Loading file ../data/commit_lookups/commit_data_lookup72500-75000.pickle\n",
      "Appending pickle of length: 2500 , new dict length: 8175\n",
      "Loading file ../data/commit_lookups/commit_data_lookup10000-12500.pickle\n"
     ]
    }
   ],
   "source": [
    "_preload(max_commit_bag_size = 4096/2, max_commits = 4096*4)"
   ]
  },
  {
   "cell_type": "code",
   "execution_count": 5,
   "metadata": {},
   "outputs": [
    {
     "data": {
      "application/vnd.jupyter.widget-view+json": {
       "model_id": "e64698f8b1344fcbabc0bb456f4159e0",
       "version_major": 2,
       "version_minor": 0
      },
      "text/plain": [
       "Generating Positive X_train:   0%|          | 0/97 [00:00<?, ?it/s]"
      ]
     },
     "metadata": {},
     "output_type": "display_data"
    },
    {
     "data": {
      "application/vnd.jupyter.widget-view+json": {
       "model_id": "83394fcab1884527b9692dc3c7884b3b",
       "version_major": 2,
       "version_minor": 0
      },
      "text/plain": [
       "Generating Positive y_train:   0%|          | 0/97 [00:00<?, ?it/s]"
      ]
     },
     "metadata": {},
     "output_type": "display_data"
    },
    {
     "data": {
      "application/vnd.jupyter.widget-view+json": {
       "model_id": "29d4b841e5f74410afe469185e18a6ca",
       "version_major": 2,
       "version_minor": 0
      },
      "text/plain": [
       "Generating Negative X_train:   0%|          | 0/70 [00:00<?, ?it/s]"
      ]
     },
     "metadata": {},
     "output_type": "display_data"
    },
    {
     "data": {
      "application/vnd.jupyter.widget-view+json": {
       "model_id": "a5d56f6cd0194fceb98357b2c0342afd",
       "version_major": 2,
       "version_minor": 0
      },
      "text/plain": [
       "Generating Negative y_train:   0%|          | 0/70 [00:00<?, ?it/s]"
      ]
     },
     "metadata": {},
     "output_type": "display_data"
    }
   ],
   "source": [
    "X_train, X_test, y_train, y_test = get_labelled(BAG_SIZE=BAG_SIZE, CONTEXT_SIZE=CONTEXT_SIZE)"
   ]
  },
  {
   "cell_type": "code",
   "execution_count": 6,
   "metadata": {},
   "outputs": [
    {
     "data": {
      "application/vnd.jupyter.widget-view+json": {
       "model_id": "7ec33a7c87564f0d97a85a8fcb3bcdf3",
       "version_major": 2,
       "version_minor": 0
      },
      "text/plain": [
       "Generating Unsupervised X_train:   0%|          | 0/8192 [00:00<?, ?it/s]"
      ]
     },
     "metadata": {},
     "output_type": "display_data"
    }
   ],
   "source": [
    "X_train_unsupervised = get_unlabelled(BAG_SIZE=BAG_SIZE, CONTEXT_SIZE=CONTEXT_SIZE)"
   ]
  },
  {
   "cell_type": "code",
   "execution_count": 7,
   "metadata": {},
   "outputs": [
    {
     "name": "stdout",
     "output_type": "stream",
     "text": [
      "Train set size 27\n",
      "Train set split 0.7777777777777778\n",
      "Test set size 7\n",
      "Test set split 0.7142857142857143\n",
      "Unsupervised Train Size 8192\n"
     ]
    }
   ],
   "source": [
    "print(\"Train set size\", len(y_train))\n",
    "print(\"Train set split\", np.sum(y_train)/len(y_train))\n",
    "print(\"Test set size\", len(y_test))\n",
    "print(\"Test set split\", np.sum(y_test)/len(y_test))\n",
    "print(\"Unsupervised Train Size\", len(X_train_unsupervised))"
   ]
  },
  {
   "cell_type": "code",
   "execution_count": null,
   "metadata": {},
   "outputs": [
    {
     "data": {
      "application/vnd.jupyter.widget-view+json": {
       "model_id": "4d032a0e4cc249179060553aa04b5d4f",
       "version_major": 2,
       "version_minor": 0
      },
      "text/plain": [
       "  0%|          | 0/10 [00:00<?, ?it/s]"
      ]
     },
     "metadata": {},
     "output_type": "display_data"
    },
    {
     "name": "stdout",
     "output_type": "stream",
     "text": [
      "Epoch 1/8\n",
      "128/128 [==============================] - 294s 2s/step - loss: -0.3804\n",
      "Epoch 2/8\n",
      "128/128 [==============================] - 263s 2s/step - loss: -0.4667\n",
      "Epoch 3/8\n",
      "128/128 [==============================] - 264s 2s/step - loss: -0.4783\n",
      "Epoch 4/8\n",
      "128/128 [==============================] - 264s 2s/step - loss: -0.4891\n",
      "Epoch 5/8\n",
      "128/128 [==============================] - 264s 2s/step - loss: -0.5014\n",
      "Epoch 6/8\n",
      "128/128 [==============================] - 264s 2s/step - loss: -0.5125\n",
      "Epoch 7/8\n",
      "128/128 [==============================] - 263s 2s/step - loss: -0.5137\n",
      "Epoch 8/8\n",
      "128/128 [==============================] - 264s 2s/step - loss: -0.5097\n",
      "Epoch 1/8\n",
      "7/7 [==============================] - 2s 97ms/step - loss: 0.7220\n",
      "Epoch 2/8\n",
      "7/7 [==============================] - 1s 96ms/step - loss: 0.5469\n",
      "Epoch 3/8\n",
      "7/7 [==============================] - 1s 101ms/step - loss: 0.6247\n",
      "Epoch 4/8\n",
      "7/7 [==============================] - 1s 98ms/step - loss: 0.5451\n",
      "Epoch 5/8\n",
      "7/7 [==============================] - 1s 91ms/step - loss: 0.5507\n",
      "Epoch 6/8\n",
      "7/7 [==============================] - 1s 90ms/step - loss: 0.6743\n",
      "Epoch 7/8\n",
      "7/7 [==============================] - 1s 91ms/step - loss: 0.5896\n",
      "Epoch 8/8\n",
      "7/7 [==============================] - 1s 95ms/step - loss: 0.5517\n",
      "Enocder: 2\n",
      "Score: 0.6236127018928528\n",
      "------------------------------------------\n",
      "Epoch 1/8\n",
      "128/128 [==============================] - 313s 2s/step - loss: -0.3410\n",
      "Epoch 2/8\n",
      "128/128 [==============================] - 310s 2s/step - loss: -0.4732\n",
      "Epoch 3/8\n",
      "128/128 [==============================] - 326s 3s/step - loss: -0.5409\n",
      "Epoch 4/8\n",
      "115/128 [=========================>....] - ETA: 33s - loss: -0.5621"
     ]
    }
   ],
   "source": [
    "for encoder in tqdm(range(3,12)):\n",
    "    try:\n",
    "        model = CommitDiffModel(unsupervised_data_size = len(X_train_unsupervised))\n",
    "        model.initialize(encoder=encoder)\n",
    "        model.fit_siam(np.array(X_train_unsupervised), epochs=8, verbose=1)\n",
    "        model.fit_binary_classification(X_train, np.array(y_train), epochs=8, batch_size=4, verbose=1)\n",
    "        score = model.evaluate_binary_classification(X_test, np.array(y_test), verbose=0)\n",
    "        print(\"Enocder:\", encoder)\n",
    "        print(\"Score:\", score)\n",
    "    except Exception as e:\n",
    "        print(e)\n",
    "    print(\"------------------------------------------\")"
   ]
  },
  {
   "cell_type": "code",
   "execution_count": null,
   "metadata": {},
   "outputs": [],
   "source": []
  },
  {
   "cell_type": "code",
   "execution_count": null,
   "metadata": {},
   "outputs": [],
   "source": []
  },
  {
   "cell_type": "code",
   "execution_count": null,
   "metadata": {},
   "outputs": [],
   "source": []
  }
 ],
 "metadata": {
  "kernelspec": {
   "display_name": "Python 3 (ipykernel)",
   "language": "python",
   "name": "python3"
  },
  "language_info": {
   "codemirror_mode": {
    "name": "ipython",
    "version": 3
   },
   "file_extension": ".py",
   "mimetype": "text/x-python",
   "name": "python",
   "nbconvert_exporter": "python",
   "pygments_lexer": "ipython3",
   "version": "3.8.10"
  },
  "vscode": {
   "interpreter": {
    "hash": "31f2aee4e71d21fbe5cf8b01ff0e069b9275f58929596ceb00d14d90e3e16cd6"
   }
  }
 },
 "nbformat": 4,
 "nbformat_minor": 4
}
