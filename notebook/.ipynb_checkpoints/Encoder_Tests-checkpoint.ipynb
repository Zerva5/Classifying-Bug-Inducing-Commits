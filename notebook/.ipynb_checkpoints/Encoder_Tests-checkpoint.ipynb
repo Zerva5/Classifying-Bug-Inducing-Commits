{
 "cells": [
  {
   "cell_type": "code",
   "execution_count": 1,
   "metadata": {},
   "outputs": [],
   "source": [
    "import os\n",
    "os.environ['TF_CPP_MIN_LOG_LEVEL'] = '3'\n",
    "os.environ['OMP_NUM_THREADS'] = '3'\n",
    "os.environ['KMP_BLOCKTIME'] = '1'\n",
    "import numpy as np\n",
    "from tqdm.auto import tqdm\n",
    "from dataset import get_labelled, get_unlabelled, _preload\n",
    "from Commit import CommitFactory\n",
    "from Model import CommitDiffModelFactory"
   ]
  },
  {
   "cell_type": "code",
   "execution_count": 2,
   "metadata": {},
   "outputs": [],
   "source": [
    "CONTEXT_SIZE = 16\n",
    "BAG_SIZE = 512\n",
    "OUTPUT_SIZE = 128"
   ]
  },
  {
   "cell_type": "code",
   "execution_count": 3,
   "metadata": {},
   "outputs": [],
   "source": [
    "Commit = CommitFactory(BAG_SIZE=BAG_SIZE, CONTEXT_SIZE=CONTEXT_SIZE)\n",
    "CommitDiffModel = CommitDiffModelFactory(BAG_SIZE=BAG_SIZE, CONTEXT_SIZE=CONTEXT_SIZE, OUTPUT_SIZE=OUTPUT_SIZE)"
   ]
  },
  {
   "cell_type": "code",
   "execution_count": 4,
   "metadata": {},
   "outputs": [
    {
     "name": "stdout",
     "output_type": "stream",
     "text": [
      "Loading Commit lookup table\n"
     ]
    },
    {
     "data": {
      "application/vnd.jupyter.widget-view+json": {
       "model_id": "1b493e4597a740c99c384142879bc21c",
       "version_major": 2,
       "version_minor": 0
      },
      "text/plain": [
       "  0%|          | 0/7 [00:00<?, ?it/s]"
      ]
     },
     "metadata": {},
     "output_type": "display_data"
    },
    {
     "name": "stdout",
     "output_type": "stream",
     "text": [
      "Loading file ../data/commit_lookups/supervised_commit_data_lookup0-1000.pickle\n",
      "Appending pickle of length: 184 , new dict length: 143\n",
      "Loading file ../data/commit_lookups/commit_data_lookup77500-80000.pickle\n",
      "Appending pickle of length: 2500 , new dict length: 2545\n",
      "Loading file ../data/commit_lookups/commit_data_lookup75000-77500.pickle\n"
     ]
    }
   ],
   "source": [
    "_preload(max_commit_bag_size = 8192, max_commits = 4096)"
   ]
  },
  {
   "cell_type": "code",
   "execution_count": 5,
   "metadata": {},
   "outputs": [
    {
     "data": {
      "application/vnd.jupyter.widget-view+json": {
       "model_id": "6c248811ba4b4e51b671aa00256fed41",
       "version_major": 2,
       "version_minor": 0
      },
      "text/plain": [
       "Generating Positive X_train:   0%|          | 0/97 [00:00<?, ?it/s]"
      ]
     },
     "metadata": {},
     "output_type": "display_data"
    },
    {
     "data": {
      "application/vnd.jupyter.widget-view+json": {
       "model_id": "71d303d2612a48aab68a65f8595f9f19",
       "version_major": 2,
       "version_minor": 0
      },
      "text/plain": [
       "Generating Positive y_train:   0%|          | 0/97 [00:00<?, ?it/s]"
      ]
     },
     "metadata": {},
     "output_type": "display_data"
    },
    {
     "data": {
      "application/vnd.jupyter.widget-view+json": {
       "model_id": "e34e720aecc9460ba311649e913c3450",
       "version_major": 2,
       "version_minor": 0
      },
      "text/plain": [
       "Generating Negative X_train:   0%|          | 0/70 [00:00<?, ?it/s]"
      ]
     },
     "metadata": {},
     "output_type": "display_data"
    },
    {
     "data": {
      "application/vnd.jupyter.widget-view+json": {
       "model_id": "3fefe83296214ce7b254d50c1765b77f",
       "version_major": 2,
       "version_minor": 0
      },
      "text/plain": [
       "Generating Negative y_train:   0%|          | 0/70 [00:00<?, ?it/s]"
      ]
     },
     "metadata": {},
     "output_type": "display_data"
    }
   ],
   "source": [
    "X_train, X_test, y_train, y_test = get_labelled(BAG_SIZE=BAG_SIZE, CONTEXT_SIZE=CONTEXT_SIZE)"
   ]
  },
  {
   "cell_type": "code",
   "execution_count": 6,
   "metadata": {},
   "outputs": [
    {
     "data": {
      "application/vnd.jupyter.widget-view+json": {
       "model_id": "eba19e39a5864ffba65caa156a89f651",
       "version_major": 2,
       "version_minor": 0
      },
      "text/plain": [
       "Generating Unsupervised X_train:   0%|          | 0/4096 [00:00<?, ?it/s]"
      ]
     },
     "metadata": {},
     "output_type": "display_data"
    }
   ],
   "source": [
    "X_train_unsupervised = get_unlabelled(BAG_SIZE=BAG_SIZE, CONTEXT_SIZE=CONTEXT_SIZE)"
   ]
  },
  {
   "cell_type": "code",
   "execution_count": 7,
   "metadata": {},
   "outputs": [
    {
     "name": "stdout",
     "output_type": "stream",
     "text": [
      "Train set size 79\n",
      "Train set split 0.620253164556962\n",
      "Test set size 20\n",
      "Test set split 0.6\n",
      "Unsupervised Train Size 4096\n"
     ]
    }
   ],
   "source": [
    "print(\"Train set size\", len(y_train))\n",
    "print(\"Train set split\", np.sum(y_train)/len(y_train))\n",
    "print(\"Test set size\", len(y_test))\n",
    "print(\"Test set split\", np.sum(y_test)/len(y_test))\n",
    "print(\"Unsupervised Train Size\", len(X_train_unsupervised))"
   ]
  },
  {
   "cell_type": "code",
   "execution_count": null,
   "metadata": {},
   "outputs": [
    {
     "data": {
      "application/vnd.jupyter.widget-view+json": {
       "model_id": "1ae92fb9ab5a421eb3dc7cf73fba50f4",
       "version_major": 2,
       "version_minor": 0
      },
      "text/plain": [
       "  0%|          | 0/10 [00:00<?, ?it/s]"
      ]
     },
     "metadata": {},
     "output_type": "display_data"
    },
    {
     "name": "stdout",
     "output_type": "stream",
     "text": [
      "Epoch 1/4\n",
      "16/16 [==============================] - 71s 4s/step - loss: -0.3718\n",
      "Epoch 2/4\n",
      "16/16 [==============================] - 59s 4s/step - loss: -0.5381\n",
      "Epoch 3/4\n",
      "16/16 [==============================] - 58s 4s/step - loss: -0.5824\n",
      "Epoch 4/4\n",
      "16/16 [==============================] - 58s 4s/step - loss: -0.5917\n",
      "Epoch 1/8\n",
      "3/3 [==============================] - 2s 296ms/step - loss: 0.7719\n",
      "Epoch 2/8\n",
      "3/3 [==============================] - 1s 303ms/step - loss: 0.7343\n",
      "Epoch 3/8\n",
      "3/3 [==============================] - 1s 307ms/step - loss: 0.6890\n",
      "Epoch 4/8\n",
      "3/3 [==============================] - 1s 281ms/step - loss: 0.6964\n",
      "Epoch 5/8\n",
      "3/3 [==============================] - 1s 292ms/step - loss: 0.6647\n",
      "Epoch 6/8\n",
      "3/3 [==============================] - 1s 303ms/step - loss: 0.6880\n",
      "Epoch 7/8\n",
      "3/3 [==============================] - 1s 316ms/step - loss: 0.7122\n",
      "Epoch 8/8\n",
      "3/3 [==============================] - 1s 303ms/step - loss: 0.6634\n",
      "Enocder: 4\n",
      "Score: 0.6783517003059387\n",
      "------------------------------------------\n",
      "Epoch 1/4\n",
      "16/16 [==============================] - 5s 134ms/step - loss: -0.2993\n",
      "Epoch 2/4\n",
      "16/16 [==============================] - 2s 129ms/step - loss: -0.5572\n",
      "Epoch 3/4\n",
      "16/16 [==============================] - 2s 130ms/step - loss: -0.6087\n",
      "Epoch 4/4\n",
      "16/16 [==============================] - 2s 128ms/step - loss: -0.6487\n",
      "Epoch 1/8\n",
      "3/3 [==============================] - 4s 38ms/step - loss: 0.8989\n",
      "Epoch 2/8\n",
      "3/3 [==============================] - 0s 31ms/step - loss: 0.7009\n",
      "Epoch 3/8\n",
      "3/3 [==============================] - 0s 31ms/step - loss: 0.7014\n",
      "Epoch 4/8\n",
      "3/3 [==============================] - 0s 32ms/step - loss: 0.6742\n",
      "Epoch 5/8\n",
      "3/3 [==============================] - 0s 30ms/step - loss: 0.6815\n",
      "Epoch 6/8\n",
      "3/3 [==============================] - 0s 49ms/step - loss: 0.6770\n",
      "Epoch 7/8\n",
      "3/3 [==============================] - 0s 28ms/step - loss: 0.6587\n",
      "Epoch 8/8\n",
      "3/3 [==============================] - 0s 29ms/step - loss: 0.6569\n",
      "Enocder: 0\n",
      "Score: 0.6695990562438965\n",
      "------------------------------------------\n",
      "Epoch 1/4\n",
      "16/16 [==============================] - 272s 17s/step - loss: -0.4430\n",
      "Epoch 2/4\n",
      " 5/16 [========>.....................] - ETA: 3:11 - loss: -0.5886"
     ]
    }
   ],
   "source": [
    "for encoder in tqdm([3]):\n",
    "    try:\n",
    "        \n",
    "        model = CommitDiffModel()\n",
    "        model.initialize(encoder)\n",
    "        model.fit_siam(np.array(X_train_unsupervised), epochs=4, batch_size=256, verbose=1)\n",
    "        model.fit_binary_classification(X_train, np.array(y_train), epochs=8, batch_size=32, verbose=1)\n",
    "        score = model.evaluate_binary_classification(X_test, np.array(y_test), verbose=0)\n",
    "        print(\"Enocder:\", encoder)\n",
    "        print(\"Score:\", score)\n",
    "    except Exception as e:\n",
    "        print(e)\n",
    "    print(\"------------------------------------------\")"
   ]
  },
  {
   "cell_type": "code",
   "execution_count": null,
   "metadata": {},
   "outputs": [],
   "source": []
  },
  {
   "cell_type": "code",
   "execution_count": null,
   "metadata": {},
   "outputs": [],
   "source": []
  }
 ],
 "metadata": {
  "kernelspec": {
   "display_name": "Python 3 (ipykernel)",
   "language": "python",
   "name": "python3"
  },
  "language_info": {
   "codemirror_mode": {
    "name": "ipython",
    "version": 3
   },
   "file_extension": ".py",
   "mimetype": "text/x-python",
   "name": "python",
   "nbconvert_exporter": "python",
   "pygments_lexer": "ipython3",
   "version": "3.8.10"
  },
  "vscode": {
   "interpreter": {
    "hash": "31f2aee4e71d21fbe5cf8b01ff0e069b9275f58929596ceb00d14d90e3e16cd6"
   }
  }
 },
 "nbformat": 4,
 "nbformat_minor": 4
}
