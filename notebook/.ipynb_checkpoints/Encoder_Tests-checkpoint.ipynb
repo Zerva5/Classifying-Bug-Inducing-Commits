{
 "cells": [
  {
   "cell_type": "code",
   "execution_count": 1,
   "metadata": {},
   "outputs": [],
   "source": [
    "import os\n",
    "os.environ['TF_CPP_MIN_LOG_LEVEL'] = '3'\n",
    "os.environ['OMP_NUM_THREADS'] = '1'\n",
    "os.environ['KMP_BLOCKTIME'] = '1'\n",
    "import numpy as np\n",
    "from tqdm.auto import tqdm\n",
    "from dataset import get_labelled, get_unlabelled, _preload\n",
    "from Commit import CommitFactory\n",
    "from Model import CommitDiffModelFactory"
   ]
  },
  {
   "cell_type": "code",
   "execution_count": 2,
   "metadata": {},
   "outputs": [],
   "source": [
    "CONTEXT_SIZE = 16\n",
    "BAG_SIZE = 512\n",
    "OUTPUT_SIZE = 128"
   ]
  },
  {
   "cell_type": "code",
   "execution_count": 3,
   "metadata": {},
   "outputs": [],
   "source": [
    "Commit = CommitFactory(BAG_SIZE=BAG_SIZE, CONTEXT_SIZE=CONTEXT_SIZE)\n",
    "CommitDiffModel = CommitDiffModelFactory(BAG_SIZE=BAG_SIZE, CONTEXT_SIZE=CONTEXT_SIZE, OUTPUT_SIZE=OUTPUT_SIZE)"
   ]
  },
  {
   "cell_type": "code",
   "execution_count": 4,
   "metadata": {},
   "outputs": [
    {
     "name": "stdout",
     "output_type": "stream",
     "text": [
      "Loading Commit lookup table\n"
     ]
    },
    {
     "data": {
      "application/vnd.jupyter.widget-view+json": {
       "model_id": "c0b8eb3c206e4089ab20c620339b5d8a",
       "version_major": 2,
       "version_minor": 0
      },
      "text/plain": [
       "  0%|          | 0/7 [00:00<?, ?it/s]"
      ]
     },
     "metadata": {},
     "output_type": "display_data"
    },
    {
     "name": "stdout",
     "output_type": "stream",
     "text": [
      "Loading file ../data/commit_lookups/supervised_commit_data_lookup0-1000.pickle\n",
      "Appending pickle of length: 184 , new dict length: 143\n",
      "Loading file ../data/commit_lookups/commit_data_lookup77500-80000.pickle\n"
     ]
    }
   ],
   "source": [
    "_preload(max_commit_bag_size = 8192, max_commits = 1024)"
   ]
  },
  {
   "cell_type": "code",
   "execution_count": 5,
   "metadata": {},
   "outputs": [
    {
     "data": {
      "application/vnd.jupyter.widget-view+json": {
       "model_id": "cbee246055f941fab73a89e045ea01cf",
       "version_major": 2,
       "version_minor": 0
      },
      "text/plain": [
       "Generating Positive X_train:   0%|          | 0/97 [00:00<?, ?it/s]"
      ]
     },
     "metadata": {},
     "output_type": "display_data"
    },
    {
     "data": {
      "application/vnd.jupyter.widget-view+json": {
       "model_id": "b82d94c66cff4e44a1bd7b68f75f308c",
       "version_major": 2,
       "version_minor": 0
      },
      "text/plain": [
       "Generating Positive y_train:   0%|          | 0/97 [00:00<?, ?it/s]"
      ]
     },
     "metadata": {},
     "output_type": "display_data"
    },
    {
     "data": {
      "application/vnd.jupyter.widget-view+json": {
       "model_id": "3d5fa75ac3c64dc7859a17aeeaa3655f",
       "version_major": 2,
       "version_minor": 0
      },
      "text/plain": [
       "Generating Negative X_train:   0%|          | 0/70 [00:00<?, ?it/s]"
      ]
     },
     "metadata": {},
     "output_type": "display_data"
    },
    {
     "data": {
      "application/vnd.jupyter.widget-view+json": {
       "model_id": "cc07c32891604d93a36c368dba62f38c",
       "version_major": 2,
       "version_minor": 0
      },
      "text/plain": [
       "Generating Negative y_train:   0%|          | 0/70 [00:00<?, ?it/s]"
      ]
     },
     "metadata": {},
     "output_type": "display_data"
    }
   ],
   "source": [
    "X_train, X_test, y_train, y_test = get_labelled(BAG_SIZE=BAG_SIZE, CONTEXT_SIZE=CONTEXT_SIZE)"
   ]
  },
  {
   "cell_type": "code",
   "execution_count": 6,
   "metadata": {},
   "outputs": [
    {
     "data": {
      "application/vnd.jupyter.widget-view+json": {
       "model_id": "82d79d582f604356a33ed953ae80a37b",
       "version_major": 2,
       "version_minor": 0
      },
      "text/plain": [
       "Generating Unsupervised X_train:   0%|          | 0/1024 [00:00<?, ?it/s]"
      ]
     },
     "metadata": {},
     "output_type": "display_data"
    }
   ],
   "source": [
    "X_train_unsupervised = get_unlabelled(BAG_SIZE=BAG_SIZE, CONTEXT_SIZE=CONTEXT_SIZE)"
   ]
  },
  {
   "cell_type": "code",
   "execution_count": 7,
   "metadata": {},
   "outputs": [
    {
     "name": "stdout",
     "output_type": "stream",
     "text": [
      "Train set size 79\n",
      "Train set split 0.620253164556962\n",
      "Test set size 20\n",
      "Test set split 0.6\n",
      "Unsupervised Train Size 1024\n"
     ]
    }
   ],
   "source": [
    "print(\"Train set size\", len(y_train))\n",
    "print(\"Train set split\", np.sum(y_train)/len(y_train))\n",
    "print(\"Test set size\", len(y_test))\n",
    "print(\"Test set split\", np.sum(y_test)/len(y_test))\n",
    "print(\"Unsupervised Train Size\", len(X_train_unsupervised))"
   ]
  },
  {
   "cell_type": "code",
   "execution_count": null,
   "metadata": {},
   "outputs": [
    {
     "data": {
      "application/vnd.jupyter.widget-view+json": {
       "model_id": "2c4ebc0c42144d0bac1d05607af26dec",
       "version_major": 2,
       "version_minor": 0
      },
      "text/plain": [
       "  0%|          | 0/12 [00:00<?, ?it/s]"
      ]
     },
     "metadata": {},
     "output_type": "display_data"
    },
    {
     "name": "stdout",
     "output_type": "stream",
     "text": [
      "Epoch 1/4\n",
      "WARNING:tensorflow:From /home/brennan/.local/lib/python3.8/site-packages/tensorflow/python/autograph/pyct/static_analysis/liveness.py:83: Analyzer.lamba_check (from tensorflow.python.autograph.pyct.static_analysis.liveness) is deprecated and will be removed after 2023-09-23.\n",
      "Instructions for updating:\n",
      "Lambda fuctions will be no more assumed to be used in the statement where they are used, or at least in the same block. https://github.com/tensorflow/tensorflow/issues/56089\n",
      "4/4 [==============================] - 4s 144ms/step - loss: -0.1472\n",
      "Epoch 2/4\n",
      "4/4 [==============================] - 1s 126ms/step - loss: -0.3003\n",
      "Epoch 3/4\n",
      "4/4 [==============================] - 0s 112ms/step - loss: -0.3710\n",
      "Epoch 4/4\n",
      "4/4 [==============================] - 0s 100ms/step - loss: -0.4305\n",
      "Epoch 1/8\n",
      "3/3 [==============================] - 5s 41ms/step - loss: 0.6967\n",
      "Epoch 2/8\n",
      "3/3 [==============================] - 0s 32ms/step - loss: 0.8302\n",
      "Epoch 3/8\n",
      "3/3 [==============================] - 0s 52ms/step - loss: 0.7120\n",
      "Epoch 4/8\n",
      "3/3 [==============================] - 0s 31ms/step - loss: 0.6992\n",
      "Epoch 5/8\n",
      "3/3 [==============================] - 0s 37ms/step - loss: 0.6898\n",
      "Epoch 6/8\n",
      "3/3 [==============================] - 0s 34ms/step - loss: 0.6788\n",
      "Epoch 7/8\n",
      "3/3 [==============================] - 0s 34ms/step - loss: 0.6547\n",
      "Epoch 8/8\n",
      "3/3 [==============================] - 0s 37ms/step - loss: 0.6523\n",
      "Enocder: 0\n",
      "Score: 0.6619895100593567\n",
      "------------------------------------------\n",
      "Epoch 1/4\n",
      "4/4 [==============================] - 50s 12s/step - loss: -0.1850\n",
      "Epoch 2/4\n",
      "4/4 [==============================] - 42s 11s/step - loss: -0.3836\n",
      "Epoch 3/4\n",
      "4/4 [==============================] - 44s 11s/step - loss: -0.5159\n",
      "Epoch 4/4\n",
      "4/4 [==============================] - 44s 10s/step - loss: -0.5683\n",
      "Epoch 1/8\n",
      "3/3 [==============================] - 10s 2s/step - loss: 0.8046\n",
      "Epoch 2/8\n",
      "3/3 [==============================] - 5s 2s/step - loss: 0.7077\n",
      "Epoch 3/8\n",
      "3/3 [==============================] - 5s 2s/step - loss: 0.6698\n",
      "Epoch 4/8\n",
      "3/3 [==============================] - 5s 2s/step - loss: 0.6826\n",
      "Epoch 5/8\n",
      "3/3 [==============================] - 5s 2s/step - loss: 0.6743\n",
      "Epoch 6/8\n",
      "3/3 [==============================] - 5s 2s/step - loss: 0.6712\n",
      "Epoch 7/8\n",
      "3/3 [==============================] - 5s 2s/step - loss: 0.6480\n",
      "Epoch 8/8\n",
      "3/3 [==============================] - 6s 2s/step - loss: 0.6334\n",
      "Enocder: 1\n",
      "Score: 0.6259826421737671\n",
      "------------------------------------------\n",
      "('Keyword argument not understood:', 'use_attention_bias')\n",
      "------------------------------------------\n",
      "('Keyword argument not understood:', 'use_attention_bias')\n",
      "------------------------------------------\n",
      "('Keyword argument not understood:', 'use_attention_bias')\n",
      "------------------------------------------\n",
      "Epoch 1/4\n",
      "4/4 [==============================] - 5s 914ms/step - loss: -0.2272\n",
      "Epoch 2/4\n",
      "4/4 [==============================] - 4s 875ms/step - loss: -0.4597\n",
      "Epoch 3/4\n",
      "4/4 [==============================] - 4s 882ms/step - loss: -0.5359\n",
      "Epoch 4/4\n",
      "4/4 [==============================] - 4s 913ms/step - loss: -0.5871\n",
      "Epoch 1/8\n",
      "3/3 [==============================] - 2s 140ms/step - loss: 0.7601\n",
      "Epoch 2/8\n",
      "3/3 [==============================] - 1s 158ms/step - loss: 0.7457\n",
      "Epoch 3/8\n",
      "3/3 [==============================] - 1s 147ms/step - loss: 0.7069\n",
      "Epoch 4/8\n",
      "3/3 [==============================] - 0s 145ms/step - loss: 0.7189\n",
      "Epoch 5/8\n",
      "3/3 [==============================] - 1s 149ms/step - loss: 0.7221\n",
      "Epoch 6/8\n",
      "3/3 [==============================] - 0s 141ms/step - loss: 0.6665\n",
      "Epoch 7/8\n",
      "3/3 [==============================] - 0s 143ms/step - loss: 0.6946\n",
      "Epoch 8/8\n",
      "3/3 [==============================] - 0s 138ms/step - loss: 0.6657\n",
      "Enocder: 5\n",
      "Score: 0.67255699634552\n",
      "------------------------------------------\n",
      "'CommitDiffModel' object has no attribute 'output_size'\n",
      "------------------------------------------\n",
      "Epoch 1/4\n",
      "3/4 [=====================>........] - ETA: 15s - loss: nan   "
     ]
    }
   ],
   "source": [
    "for encoder in tqdm([0,1,2,3,4,5,6,7,8,9,10,11]):\n",
    "    try:\n",
    "        \n",
    "        model = CommitDiffModel()\n",
    "        model.initialize(encoder)\n",
    "        model.fit_siam(np.array(X_train_unsupervised), epochs=4, batch_size=256, verbose=1)\n",
    "        model.fit_binary_classification(X_train, np.array(y_train), epochs=8, batch_size=32, verbose=1)\n",
    "        score = model.evaluate_binary_classification(X_test, np.array(y_test), verbose=0)\n",
    "        print(\"Enocder:\", encoder)\n",
    "        print(\"Score:\", score)\n",
    "    except Exception as e:\n",
    "        print(e)\n",
    "    print(\"------------------------------------------\")"
   ]
  },
  {
   "cell_type": "code",
   "execution_count": null,
   "metadata": {},
   "outputs": [],
   "source": []
  },
  {
   "cell_type": "code",
   "execution_count": null,
   "metadata": {},
   "outputs": [],
   "source": []
  }
 ],
 "metadata": {
  "kernelspec": {
   "display_name": "Python 3 (ipykernel)",
   "language": "python",
   "name": "python3"
  },
  "language_info": {
   "codemirror_mode": {
    "name": "ipython",
    "version": 3
   },
   "file_extension": ".py",
   "mimetype": "text/x-python",
   "name": "python",
   "nbconvert_exporter": "python",
   "pygments_lexer": "ipython3",
   "version": "3.8.10"
  },
  "vscode": {
   "interpreter": {
    "hash": "31f2aee4e71d21fbe5cf8b01ff0e069b9275f58929596ceb00d14d90e3e16cd6"
   }
  }
 },
 "nbformat": 4,
 "nbformat_minor": 4
}
