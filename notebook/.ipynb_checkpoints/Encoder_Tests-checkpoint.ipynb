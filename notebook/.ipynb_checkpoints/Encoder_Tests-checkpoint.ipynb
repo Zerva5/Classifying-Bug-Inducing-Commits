{
 "cells": [
  {
   "cell_type": "code",
   "execution_count": 1,
   "metadata": {},
   "outputs": [],
   "source": [
    "import os\n",
    "os.environ['TF_CPP_MIN_LOG_LEVEL'] = '3'\n",
    "os.environ['OMP_NUM_THREADS'] = '3' \n",
    "os.environ['KMP_BLOCKTIME'] = '1'\n",
    "import numpy as np\n",
    "import gc\n",
    "from tqdm.auto import tqdm\n",
    "from dataset import get_labelled, get_unlabelled, _preload, _unload\n",
    "from Commit import CommitFactory\n",
    "from Model import CommitDiffModelFactory"
   ]
  },
  {
   "cell_type": "code",
   "execution_count": 2,
   "metadata": {},
   "outputs": [],
   "source": [
    "##### META PARAMS #####\n",
    "\n",
    "#Size / depth / length of each individual context/path\n",
    "CONTEXT_SIZE = 8\n",
    "\n",
    "#Total number of contexts to sample per bag\n",
    "BAG_SIZE = 256\n",
    "\n",
    "#Size of fixed length vector to encode to\n",
    "OUTPUT_SIZE = 256\n",
    "\n",
    "# Hard limit to filter bags by. Bags which exceed this size won't even be sampled.\n",
    "# Set to None to turn off\n",
    "MAX_BAG_SIZE_FILTER = 2048 * 4\n",
    "\n",
    "#Maximum number of labelled commits to train on\n",
    "MAX_LABELLED_COMMITS = 4096 * 8\n",
    "\n",
    "#Maximum number of unlabelled commits to train on\n",
    "MAX_UNLABELLED_COMMITS = 4096 * 8\n",
    "\n",
    "#Batch size for unsupervised training. Higher = faster/better but more memory required\n",
    "SIAM_BATCH_SIZE = 128"
   ]
  },
  {
   "cell_type": "code",
   "execution_count": 3,
   "metadata": {},
   "outputs": [],
   "source": [
    "Commit = CommitFactory(BAG_SIZE=BAG_SIZE, CONTEXT_SIZE=CONTEXT_SIZE)\n",
    "CommitDiffModel = CommitDiffModelFactory(BAG_SIZE=BAG_SIZE, CONTEXT_SIZE=CONTEXT_SIZE, OUTPUT_SIZE=OUTPUT_SIZE)"
   ]
  },
  {
   "cell_type": "code",
   "execution_count": 4,
   "metadata": {},
   "outputs": [
    {
     "name": "stdout",
     "output_type": "stream",
     "text": [
      "Loading Commit lookup table\n"
     ]
    },
    {
     "data": {
      "application/vnd.jupyter.widget-view+json": {
       "model_id": "4b718383b80d46f8b1d338135224ccf0",
       "version_major": 2,
       "version_minor": 0
      },
      "text/plain": [
       "Loading commit lookups:   0%|          | 0/32768 [00:00<?, ?it/s]"
      ]
     },
     "metadata": {},
     "output_type": "display_data"
    },
    {
     "name": "stdout",
     "output_type": "stream",
     "text": [
      "Loading file ../data/commit_lookups/labelled/01_priority_commit_lookups.pickle\n",
      "Appending pickle of length: 7549 , new dict length: 6209\n",
      "Loading file ../data/commit_lookups/labelled/02_priority_commit_lookups.pickle\n",
      "Appending pickle of length: 10410 , new dict length: 8505\n",
      "Loading file ../data/commit_lookups/labelled/03_priority_commit_lookups.pickle\n",
      "Appending pickle of length: 7246 , new dict length: 11335\n"
     ]
    }
   ],
   "source": [
    "_preload(max_commit_bag_size = MAX_BAG_SIZE_FILTER, max_commits = MAX_LABELLED_COMMITS)"
   ]
  },
  {
   "cell_type": "code",
   "execution_count": null,
   "metadata": {},
   "outputs": [
    {
     "data": {
      "application/vnd.jupyter.widget-view+json": {
       "model_id": "b8aad99f50ce41f9b98f57098ad212c1",
       "version_major": 2,
       "version_minor": 0
      },
      "text/plain": [
       "Generating apache_positive_pairs X_train and y_train:   0%|          | 0/1708 [00:00<?, ?it/s]"
      ]
     },
     "metadata": {},
     "output_type": "display_data"
    }
   ],
   "source": [
    "X_train, X_test, y_train, y_test = get_labelled(BAG_SIZE=BAG_SIZE, CONTEXT_SIZE=CONTEXT_SIZE, balance=True)"
   ]
  },
  {
   "cell_type": "code",
   "execution_count": null,
   "metadata": {},
   "outputs": [],
   "source": [
    "X_train_unsupervised = get_unlabelled(BAG_SIZE=BAG_SIZE, CONTEXT_SIZE=CONTEXT_SIZE)"
   ]
  },
  {
   "cell_type": "code",
   "execution_count": null,
   "metadata": {},
   "outputs": [],
   "source": [
    "print(\"Train set size\", len(y_train))\n",
    "print(\"Train set split\", np.sum(y_train)/len(y_train))\n",
    "print(\"Test set size\", len(y_test))\n",
    "print(\"Test set split\", np.sum(y_test)/len(y_test))\n",
    "print(\"Unsupervised Train Size\", len(X_train_unsupervised))"
   ]
  },
  {
   "cell_type": "code",
   "execution_count": null,
   "metadata": {},
   "outputs": [],
   "source": [
    "_unload()"
   ]
  },
  {
   "cell_type": "code",
   "execution_count": null,
   "metadata": {},
   "outputs": [
    {
     "data": {
      "application/vnd.jupyter.widget-view+json": {
       "model_id": "134df222d94f4aa388cb39c1b0518024",
       "version_major": 2,
       "version_minor": 0
      },
      "text/plain": [
       "  0%|          | 0/6 [00:00<?, ?it/s]"
      ]
     },
     "metadata": {},
     "output_type": "display_data"
    },
    {
     "name": "stdout",
     "output_type": "stream",
     "text": [
      "Epoch 1/8\n",
      "16/16 [==============================] - 6s 376ms/step - loss: 0.0124\n",
      "Epoch 2/8\n",
      "16/16 [==============================] - 6s 379ms/step - loss: -0.0247\n",
      "Epoch 3/8\n",
      "16/16 [==============================] - 7s 404ms/step - loss: -0.0747\n",
      "Epoch 4/8\n",
      "16/16 [==============================] - 7s 415ms/step - loss: -0.1298\n",
      "Epoch 5/8\n",
      "16/16 [==============================] - 7s 429ms/step - loss: -0.1784\n",
      "Epoch 6/8\n",
      "16/16 [==============================] - 6s 384ms/step - loss: -0.2174\n",
      "Epoch 7/8\n",
      "16/16 [==============================] - 9s 537ms/step - loss: -0.2434\n",
      "Epoch 8/8\n",
      "16/16 [==============================] - 9s 527ms/step - loss: -0.2598\n",
      "Epoch 1/8\n",
      "7/7 [==============================] - 2s 24ms/step - loss: 0.7191\n",
      "Epoch 2/8\n",
      "7/7 [==============================] - 0s 23ms/step - loss: 0.8203\n",
      "Epoch 3/8\n",
      "7/7 [==============================] - 0s 22ms/step - loss: 0.9550\n",
      "Epoch 4/8\n",
      "7/7 [==============================] - 0s 24ms/step - loss: 0.7224\n",
      "Epoch 5/8\n",
      "7/7 [==============================] - 0s 25ms/step - loss: 0.7479\n",
      "Epoch 6/8\n",
      "7/7 [==============================] - 0s 27ms/step - loss: 0.6911\n",
      "Epoch 7/8\n",
      "7/7 [==============================] - 0s 22ms/step - loss: 0.6916\n",
      "Epoch 8/8\n",
      "7/7 [==============================] - 0s 21ms/step - loss: 0.6931\n",
      "Enocder: 5\n",
      "Score: 0.6880016922950745\n",
      "------------------------------------------\n",
      "Epoch 1/8\n",
      "16/16 [==============================] - 15s 923ms/step - loss: -0.0357\n",
      "Epoch 2/8\n",
      "16/16 [==============================] - 16s 1s/step - loss: -0.1624\n",
      "Epoch 3/8\n",
      "16/16 [==============================] - 13s 795ms/step - loss: -0.2835\n",
      "Epoch 4/8\n",
      "16/16 [==============================] - 11s 696ms/step - loss: -0.3578\n",
      "Epoch 5/8\n",
      "16/16 [==============================] - 12s 747ms/step - loss: -0.3975\n",
      "Epoch 6/8\n",
      "16/16 [==============================] - 14s 855ms/step - loss: -0.4172\n",
      "Epoch 7/8\n",
      "16/16 [==============================] - 13s 776ms/step - loss: -0.4265\n",
      "Epoch 8/8\n",
      "16/16 [==============================] - 12s 777ms/step - loss: -0.4327\n",
      "Epoch 1/8\n",
      "7/7 [==============================] - 2s 39ms/step - loss: 0.8630\n",
      "Epoch 2/8\n",
      "7/7 [==============================] - 0s 26ms/step - loss: 0.8003\n",
      "Epoch 3/8\n",
      "7/7 [==============================] - 0s 34ms/step - loss: 0.6776\n",
      "Epoch 4/8\n",
      "7/7 [==============================] - 0s 32ms/step - loss: 0.7286\n",
      "Epoch 5/8\n",
      "7/7 [==============================] - 0s 33ms/step - loss: 0.7014\n",
      "Epoch 6/8\n",
      "7/7 [==============================] - 0s 38ms/step - loss: 0.7033\n",
      "Epoch 7/8\n",
      "7/7 [==============================] - 0s 29ms/step - loss: 0.6892\n",
      "Epoch 8/8\n",
      "7/7 [==============================] - 0s 25ms/step - loss: 0.6991\n",
      "Enocder: 4\n",
      "Score: 0.7425912022590637\n",
      "------------------------------------------\n",
      "Epoch 1/8\n",
      "16/16 [==============================] - 30s 2s/step - loss: -0.0249\n",
      "Epoch 2/8\n",
      "16/16 [==============================] - 31s 2s/step - loss: -0.2058\n",
      "Epoch 3/8\n",
      "16/16 [==============================] - 29s 2s/step - loss: -0.3301\n",
      "Epoch 4/8\n",
      "16/16 [==============================] - 26s 2s/step - loss: -0.3722\n",
      "Epoch 5/8\n",
      "16/16 [==============================] - 27s 2s/step - loss: -0.3817\n",
      "Epoch 6/8\n",
      "16/16 [==============================] - 24s 1s/step - loss: -0.3856\n",
      "Epoch 7/8\n",
      " 7/16 [============>.................] - ETA: 13s - loss: -0.3881"
     ]
    }
   ],
   "source": [
    "for encoder in tqdm([5,4,2,3,0,1]):\n",
    "    try:\n",
    "        model = CommitDiffModel(unsupervised_data_size = len(X_train_unsupervised), siam_batch_size = SIAM_BATCH_SIZE)\n",
    "        model.initialize(encoder=encoder)\n",
    "        model.fit_siam(np.array(X_train_unsupervised), epochs=16, verbose=1)\n",
    "        model.fit_binary_classification(X_train, np.array(y_train), epochs=16, batch_size=64, verbose=1)\n",
    "        score = model.evaluate_binary_classification(X_test, np.array(y_test), verbose=0)\n",
    "        print(\"Enocder:\", encoder)\n",
    "        print(\"Score:\", score)\n",
    "    except Exception as e:\n",
    "        print(e)\n",
    "    print(\"------------------------------------------\")\n",
    "    del model\n",
    "    gc.collect()"
   ]
  },
  {
   "cell_type": "code",
   "execution_count": null,
   "metadata": {},
   "outputs": [],
   "source": []
  },
  {
   "cell_type": "code",
   "execution_count": null,
   "metadata": {},
   "outputs": [],
   "source": []
  },
  {
   "cell_type": "code",
   "execution_count": null,
   "metadata": {},
   "outputs": [],
   "source": []
  }
 ],
 "metadata": {
  "kernelspec": {
   "display_name": "Python 3 (ipykernel)",
   "language": "python",
   "name": "python3"
  },
  "language_info": {
   "codemirror_mode": {
    "name": "ipython",
    "version": 3
   },
   "file_extension": ".py",
   "mimetype": "text/x-python",
   "name": "python",
   "nbconvert_exporter": "python",
   "pygments_lexer": "ipython3",
   "version": "3.8.10"
  },
  "vscode": {
   "interpreter": {
    "hash": "31f2aee4e71d21fbe5cf8b01ff0e069b9275f58929596ceb00d14d90e3e16cd6"
   }
  }
 },
 "nbformat": 4,
 "nbformat_minor": 4
}
