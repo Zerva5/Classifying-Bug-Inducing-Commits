{
 "cells": [
  {
   "cell_type": "code",
   "execution_count": 1,
   "metadata": {},
   "outputs": [],
   "source": [
    "import os\n",
    "os.environ['TF_CPP_MIN_LOG_LEVEL'] = '3'\n",
    "os.environ['OMP_NUM_THREADS'] = '3'\n",
    "os.environ['KMP_BLOCKTIME'] = '1'\n",
    "import numpy as np\n",
    "import gc\n",
    "from tqdm.auto import tqdm\n",
    "from dataset import get_labelled, get_unlabelled, _preload, _unload, unlabelled_generator, rendred_unlabelled_generator\n",
    "from render_lookups import render_lookups, render_examples, get_rendered_examples\n",
    "from Commit import CommitFactory\n",
    "from Model import CommitDiffModelFactory\n",
    "import tensorflow as tf"
   ]
  },
  {
   "cell_type": "code",
   "execution_count": 2,
   "metadata": {},
   "outputs": [],
   "source": [
    "##### META PARAMS #####\n",
    "\n",
    "# If these two change, the data must be re-rendered!\n",
    "##########################################\n",
    "\n",
    "#Size / depth / length of each individual context/path\n",
    "CONTEXT_SIZE = 8\n",
    "\n",
    "#Total number of contexts to sample per bag\n",
    "BAG_SIZE = 128\n",
    "\n",
    "##########################################\n",
    "\n",
    "#Encoder to use\n",
    "ENCODER = 0\n",
    "\n",
    "#Size of fixed length vector to encode to\n",
    "OUTPUT_SIZE = 512\n",
    "\n",
    "# Hard limit to filter bags by. Bags which exceed this size won't even be sampled.\n",
    "# Set to None to turn off\n",
    "MAX_BAG_SIZE_FILTER = 2048\n",
    "\n",
    "#Maximum number of labelled commits to train on\n",
    "MAX_LABELLED_COMMITS = 4096 * 8\n",
    "\n",
    "#Maximum number of unlabelled commits to train on\n",
    "MAX_UNLABELLED_COMMITS = 4096 * 8 * 8\n",
    "\n",
    "#Batch size for unsupervised training. Higher = faster but more memory required and may(?) reduce quality. Jury's out\n",
    "SIAM_BATCH_SIZE = 1024\n",
    "SIAM_BATCHES_PER_UPDATE = 2"
   ]
  },
  {
   "cell_type": "code",
   "execution_count": 3,
   "metadata": {},
   "outputs": [],
   "source": [
    "Commit = CommitFactory(BAG_SIZE=BAG_SIZE, CONTEXT_SIZE=CONTEXT_SIZE)"
   ]
  },
  {
   "cell_type": "code",
   "execution_count": null,
   "metadata": {},
   "outputs": [],
   "source": [
    "#You can download these data folders from drive! Unless you want to change the settings.\n",
    "#They go in the data/commit_lookups/\n",
    "\n",
    "# Only run if you need to re-process the raw pickles !!!\n",
    "render_lookups(BAG_SIZE=BAG_SIZE, CONTEXT_SIZE=CONTEXT_SIZE)"
   ]
  },
  {
   "cell_type": "code",
   "execution_count": null,
   "metadata": {},
   "outputs": [],
   "source": [
    "# Only run if you need to re-process the raw pickles !!!\n",
    "render_examples(BAG_SIZE=BAG_SIZE, CONTEXT_SIZE=CONTEXT_SIZE)"
   ]
  },
  {
   "cell_type": "code",
   "execution_count": 4,
   "metadata": {},
   "outputs": [],
   "source": [
    "output_types = (tf.float32, tf.float32)\n",
    "output_shapes = ((BAG_SIZE, CONTEXT_SIZE), (BAG_SIZE, CONTEXT_SIZE))\n",
    "\n",
    "dataset = tf.data.Dataset.from_generator(\n",
    "    rendred_unlabelled_generator,\n",
    "    output_types=output_types,\n",
    "    output_shapes=output_shapes,\n",
    "    args=(BAG_SIZE, CONTEXT_SIZE, MAX_UNLABELLED_COMMITS, MAX_BAG_SIZE_FILTER)\n",
    ")\n",
    "\n",
    "dataset = dataset.batch(SIAM_BATCH_SIZE)"
   ]
  },
  {
   "cell_type": "code",
   "execution_count": 5,
   "metadata": {},
   "outputs": [],
   "source": [
    "CommitDiffModel = CommitDiffModelFactory(BAG_SIZE=BAG_SIZE, CONTEXT_SIZE=CONTEXT_SIZE, OUTPUT_SIZE=OUTPUT_SIZE)"
   ]
  },
  {
   "cell_type": "code",
   "execution_count": 6,
   "metadata": {},
   "outputs": [],
   "source": [
    "model = CommitDiffModel(unsupervised_data_size = MAX_UNLABELLED_COMMITS, siam_batch_size = SIAM_BATCH_SIZE, steps_per_update = SIAM_BATCHES_PER_UPDATE)\n",
    "model.initialize(encoder=0)"
   ]
  },
  {
   "cell_type": "code",
   "execution_count": 7,
   "metadata": {},
   "outputs": [
    {
     "data": {
      "application/vnd.jupyter.widget-view+json": {
       "model_id": "f675725ff72a4715a5abc46cbf223e4c",
       "version_major": 2,
       "version_minor": 0
      },
      "text/plain": [
       "Searching for a good initial randomization:   0%|          | 0/4 [00:00<?, ?it/s]"
      ]
     },
     "metadata": {},
     "output_type": "display_data"
    },
    {
     "name": "stdout",
     "output_type": "stream",
     "text": [
      "Epoch 1/2\n",
      "64/64 [==============================] - 187s 3s/step - loss: -0.4286\n",
      "Epoch 2/2\n",
      "64/64 [==============================] - 169s 3s/step - loss: -0.5865\n",
      "Epoch 1/2\n",
      "64/64 [==============================] - 168s 3s/step - loss: -0.1486\n",
      "Epoch 2/2\n",
      "64/64 [==============================] - 179s 3s/step - loss: -0.3643\n",
      "Epoch 1/2\n",
      "64/64 [==============================] - 179s 3s/step - loss: -0.1512\n",
      "Epoch 2/2\n",
      "64/64 [==============================] - 187s 3s/step - loss: -0.3850\n",
      "Epoch 1/2\n",
      "64/64 [==============================] - 178s 3s/step - loss: -0.1144\n",
      "Epoch 2/2\n",
      "64/64 [==============================] - 168s 3s/step - loss: -0.3158\n"
     ]
    }
   ],
   "source": [
    "unsupervised_data = model.fit_siam_generator(dataset, epochs=32, verbose=1, num_runs=4, run_epochs=4)"
   ]
  },
  {
   "cell_type": "code",
   "execution_count": 8,
   "metadata": {},
   "outputs": [],
   "source": [
    "# _preload(max_commits = MAX_LABELLED_COMMITS)"
   ]
  },
  {
   "cell_type": "code",
   "execution_count": 10,
   "metadata": {},
   "outputs": [],
   "source": [
    "#X_train, X_test, y_train, y_test = get_labelled(BAG_SIZE=BAG_SIZE, CONTEXT_SIZE=CONTEXT_SIZE)\n",
    "X_train, X_test, y_train, y_test = get_rendered_examples() #You can also set balance=True (!)\n",
    "X_test_1 = [X_test[i] for i in range(len(X_test)) if y_test[i] == 1]\n",
    "y_test_1 = [y_test[i] for i in range(len(X_test)) if y_test[i] == 1]\n",
    "X_test_0 = [X_test[i] for i in range(len(X_test)) if y_test[i] == 0]\n",
    "y_test_0 = [y_test[i] for i in range(len(X_test)) if y_test[i] == 0]"
   ]
  },
  {
   "cell_type": "code",
   "execution_count": 10,
   "metadata": {},
   "outputs": [
    {
     "name": "stdout",
     "output_type": "stream",
     "text": [
      "Train set size 11711\n",
      "Train set split 0.1911877721800017\n",
      "Test set size 2928\n",
      "Test set split 0.19740437158469945\n"
     ]
    }
   ],
   "source": [
    "print(\"Train set size\", len(y_train))\n",
    "print(\"Train set split\", np.sum(y_train)/len(y_train))\n",
    "print(\"Test set size\", len(y_test))\n",
    "print(\"Test set split\", np.sum(y_test)/len(y_test))"
   ]
  },
  {
   "cell_type": "code",
   "execution_count": 11,
   "metadata": {},
   "outputs": [],
   "source": [
    "#For memory optimization\n",
    "#_unload()"
   ]
  },
  {
   "cell_type": "code",
   "execution_count": 11,
   "metadata": {},
   "outputs": [
    {
     "name": "stdout",
     "output_type": "stream",
     "text": [
      "Epoch 1/64\n",
      "92/92 [==============================] - 9s 52ms/step - loss: 0.4975 - accuracy: 0.8088 - val_loss: 0.4964 - val_accuracy: 0.8026\n",
      "Epoch 2/64\n",
      "92/92 [==============================] - 4s 42ms/step - loss: 0.4813 - accuracy: 0.8088 - val_loss: 0.4703 - val_accuracy: 0.8026\n",
      "Epoch 3/64\n",
      "92/92 [==============================] - 4s 42ms/step - loss: 0.4237 - accuracy: 0.8153 - val_loss: 0.4177 - val_accuracy: 0.8108\n",
      "Epoch 4/64\n",
      "92/92 [==============================] - 4s 42ms/step - loss: 0.3824 - accuracy: 0.8290 - val_loss: 0.3686 - val_accuracy: 0.8327\n",
      "Epoch 5/64\n",
      "92/92 [==============================] - 4s 42ms/step - loss: 0.3706 - accuracy: 0.8303 - val_loss: 0.3708 - val_accuracy: 0.8327\n",
      "Epoch 6/64\n",
      "92/92 [==============================] - 4s 43ms/step - loss: 0.3701 - accuracy: 0.8290 - val_loss: 0.3593 - val_accuracy: 0.8327\n",
      "Epoch 7/64\n",
      "92/92 [==============================] - 4s 42ms/step - loss: 0.3661 - accuracy: 0.8302 - val_loss: 0.3767 - val_accuracy: 0.8323\n",
      "Epoch 8/64\n",
      "92/92 [==============================] - 4s 43ms/step - loss: 0.3639 - accuracy: 0.8301 - val_loss: 0.3558 - val_accuracy: 0.8327\n",
      "Epoch 9/64\n",
      "92/92 [==============================] - 4s 42ms/step - loss: 0.3618 - accuracy: 0.8313 - val_loss: 0.3558 - val_accuracy: 0.8327\n",
      "Epoch 10/64\n",
      "92/92 [==============================] - 4s 42ms/step - loss: 0.3591 - accuracy: 0.8307 - val_loss: 0.3563 - val_accuracy: 0.8327\n",
      "Epoch 11/64\n",
      "92/92 [==============================] - 4s 42ms/step - loss: 0.3614 - accuracy: 0.8326 - val_loss: 0.3502 - val_accuracy: 0.8327\n",
      "Epoch 12/64\n",
      "92/92 [==============================] - 4s 42ms/step - loss: 0.3551 - accuracy: 0.8306 - val_loss: 0.3537 - val_accuracy: 0.8330\n",
      "Epoch 13/64\n",
      "92/92 [==============================] - 4s 43ms/step - loss: 0.3584 - accuracy: 0.8331 - val_loss: 0.3474 - val_accuracy: 0.8320\n",
      "Epoch 14/64\n",
      "92/92 [==============================] - 4s 42ms/step - loss: 0.3499 - accuracy: 0.8326 - val_loss: 0.3689 - val_accuracy: 0.8333\n",
      "Epoch 15/64\n",
      "92/92 [==============================] - 4s 42ms/step - loss: 0.3523 - accuracy: 0.8332 - val_loss: 0.3563 - val_accuracy: 0.8309\n",
      "Epoch 16/64\n",
      "92/92 [==============================] - 4s 43ms/step - loss: 0.3503 - accuracy: 0.8334 - val_loss: 0.3935 - val_accuracy: 0.8142\n",
      "Epoch 17/64\n",
      "92/92 [==============================] - 4s 42ms/step - loss: 0.3627 - accuracy: 0.8243 - val_loss: 0.3472 - val_accuracy: 0.8323\n",
      "Epoch 18/64\n",
      "92/92 [==============================] - 4s 43ms/step - loss: 0.3489 - accuracy: 0.8348 - val_loss: 0.3422 - val_accuracy: 0.8323\n",
      "Epoch 19/64\n",
      "92/92 [==============================] - 4s 42ms/step - loss: 0.3504 - accuracy: 0.8378 - val_loss: 0.3427 - val_accuracy: 0.8340\n",
      "Epoch 20/64\n",
      "92/92 [==============================] - 4s 43ms/step - loss: 0.3488 - accuracy: 0.8377 - val_loss: 0.3532 - val_accuracy: 0.8344\n",
      "Epoch 21/64\n",
      "92/92 [==============================] - 4s 42ms/step - loss: 0.3473 - accuracy: 0.8382 - val_loss: 0.3629 - val_accuracy: 0.8333\n",
      "Epoch 22/64\n",
      "92/92 [==============================] - 4s 43ms/step - loss: 0.3489 - accuracy: 0.8394 - val_loss: 0.3436 - val_accuracy: 0.8323\n",
      "Epoch 23/64\n",
      "92/92 [==============================] - 4s 44ms/step - loss: 0.3443 - accuracy: 0.8393 - val_loss: 0.3465 - val_accuracy: 0.8327\n",
      "Epoch 24/64\n",
      "92/92 [==============================] - 4s 43ms/step - loss: 0.3448 - accuracy: 0.8409 - val_loss: 0.3450 - val_accuracy: 0.8402\n",
      "Epoch 25/64\n",
      "92/92 [==============================] - 4s 42ms/step - loss: 0.3431 - accuracy: 0.8405 - val_loss: 0.3372 - val_accuracy: 0.8378\n",
      "Epoch 26/64\n",
      "92/92 [==============================] - 4s 43ms/step - loss: 0.3436 - accuracy: 0.8385 - val_loss: 0.3414 - val_accuracy: 0.8347\n",
      "Epoch 27/64\n",
      "92/92 [==============================] - 4s 43ms/step - loss: 0.3395 - accuracy: 0.8417 - val_loss: 0.3386 - val_accuracy: 0.8429\n",
      "Epoch 28/64\n",
      "92/92 [==============================] - 4s 43ms/step - loss: 0.3454 - accuracy: 0.8391 - val_loss: 0.3395 - val_accuracy: 0.8422\n",
      "Epoch 29/64\n",
      "92/92 [==============================] - 4s 42ms/step - loss: 0.3409 - accuracy: 0.8423 - val_loss: 0.3379 - val_accuracy: 0.8385\n",
      "Epoch 30/64\n",
      "92/92 [==============================] - 4s 42ms/step - loss: 0.3387 - accuracy: 0.8444 - val_loss: 0.3373 - val_accuracy: 0.8402\n",
      "Epoch 31/64\n",
      "92/92 [==============================] - 4s 43ms/step - loss: 0.3400 - accuracy: 0.8441 - val_loss: 0.3458 - val_accuracy: 0.8415\n",
      "Epoch 32/64\n",
      "92/92 [==============================] - 4s 43ms/step - loss: 0.3449 - accuracy: 0.8392 - val_loss: 0.3388 - val_accuracy: 0.8371\n",
      "Epoch 33/64\n",
      "92/92 [==============================] - 4s 43ms/step - loss: 0.3386 - accuracy: 0.8456 - val_loss: 0.3365 - val_accuracy: 0.8439\n",
      "Epoch 34/64\n",
      "92/92 [==============================] - 4s 43ms/step - loss: 0.3395 - accuracy: 0.8437 - val_loss: 0.3540 - val_accuracy: 0.8337\n",
      "Epoch 35/64\n",
      "92/92 [==============================] - 4s 43ms/step - loss: 0.3376 - accuracy: 0.8440 - val_loss: 0.3363 - val_accuracy: 0.8402\n",
      "Epoch 36/64\n",
      "92/92 [==============================] - 4s 43ms/step - loss: 0.3392 - accuracy: 0.8452 - val_loss: 0.3431 - val_accuracy: 0.8361\n",
      "Epoch 37/64\n",
      "92/92 [==============================] - 4s 43ms/step - loss: 0.3387 - accuracy: 0.8444 - val_loss: 0.3380 - val_accuracy: 0.8405\n",
      "Epoch 38/64\n",
      "92/92 [==============================] - 4s 44ms/step - loss: 0.3366 - accuracy: 0.8463 - val_loss: 0.3393 - val_accuracy: 0.8398\n",
      "Epoch 39/64\n",
      "92/92 [==============================] - 4s 43ms/step - loss: 0.3399 - accuracy: 0.8451 - val_loss: 0.3417 - val_accuracy: 0.8361\n",
      "Epoch 40/64\n",
      "92/92 [==============================] - 4s 43ms/step - loss: 0.3452 - accuracy: 0.8419 - val_loss: 0.3398 - val_accuracy: 0.8391\n",
      "Epoch 41/64\n",
      "92/92 [==============================] - 4s 43ms/step - loss: 0.3393 - accuracy: 0.8443 - val_loss: 0.3421 - val_accuracy: 0.8344\n",
      "Epoch 42/64\n",
      "92/92 [==============================] - 4s 43ms/step - loss: 0.3390 - accuracy: 0.8459 - val_loss: 0.3477 - val_accuracy: 0.8344\n",
      "Epoch 43/64\n",
      "92/92 [==============================] - 4s 43ms/step - loss: 0.3363 - accuracy: 0.8467 - val_loss: 0.3442 - val_accuracy: 0.8374\n",
      "Epoch 44/64\n",
      "92/92 [==============================] - 4s 43ms/step - loss: 0.3371 - accuracy: 0.8451 - val_loss: 0.3350 - val_accuracy: 0.8422\n",
      "Epoch 45/64\n",
      "92/92 [==============================] - 4s 43ms/step - loss: 0.3355 - accuracy: 0.8476 - val_loss: 0.3387 - val_accuracy: 0.8385\n",
      "Epoch 46/64\n",
      "92/92 [==============================] - 4s 43ms/step - loss: 0.3364 - accuracy: 0.8453 - val_loss: 0.3428 - val_accuracy: 0.8381\n",
      "Epoch 47/64\n",
      "92/92 [==============================] - 4s 43ms/step - loss: 0.3325 - accuracy: 0.8479 - val_loss: 0.3399 - val_accuracy: 0.8378\n",
      "Epoch 48/64\n",
      "92/92 [==============================] - 4s 43ms/step - loss: 0.3367 - accuracy: 0.8460 - val_loss: 0.3350 - val_accuracy: 0.8408\n",
      "Epoch 49/64\n",
      "92/92 [==============================] - 4s 43ms/step - loss: 0.3341 - accuracy: 0.8481 - val_loss: 0.3371 - val_accuracy: 0.8432\n",
      "Epoch 50/64\n",
      "92/92 [==============================] - 4s 43ms/step - loss: 0.3342 - accuracy: 0.8474 - val_loss: 0.3352 - val_accuracy: 0.8422\n",
      "Epoch 51/64\n",
      "92/92 [==============================] - 4s 43ms/step - loss: 0.3339 - accuracy: 0.8489 - val_loss: 0.3345 - val_accuracy: 0.8439\n",
      "Epoch 52/64\n",
      "92/92 [==============================] - 4s 43ms/step - loss: 0.3350 - accuracy: 0.8479 - val_loss: 0.3338 - val_accuracy: 0.8412\n",
      "Epoch 53/64\n",
      "92/92 [==============================] - 4s 44ms/step - loss: 0.3367 - accuracy: 0.8442 - val_loss: 0.3337 - val_accuracy: 0.8422\n",
      "Epoch 54/64\n",
      "92/92 [==============================] - 4s 43ms/step - loss: 0.3345 - accuracy: 0.8476 - val_loss: 0.3369 - val_accuracy: 0.8436\n",
      "Epoch 55/64\n",
      "92/92 [==============================] - 4s 43ms/step - loss: 0.3345 - accuracy: 0.8492 - val_loss: 0.3361 - val_accuracy: 0.8426\n",
      "Epoch 56/64\n",
      "92/92 [==============================] - 4s 43ms/step - loss: 0.3393 - accuracy: 0.8445 - val_loss: 0.3397 - val_accuracy: 0.8398\n",
      "Epoch 57/64\n",
      "92/92 [==============================] - 4s 43ms/step - loss: 0.3362 - accuracy: 0.8451 - val_loss: 0.4042 - val_accuracy: 0.8258\n",
      "Epoch 58/64\n",
      "92/92 [==============================] - 4s 43ms/step - loss: 0.3403 - accuracy: 0.8447 - val_loss: 0.3386 - val_accuracy: 0.8402\n",
      "Epoch 59/64\n",
      "92/92 [==============================] - 4s 43ms/step - loss: 0.3338 - accuracy: 0.8480 - val_loss: 0.3452 - val_accuracy: 0.8388\n",
      "Epoch 60/64\n",
      "92/92 [==============================] - 4s 44ms/step - loss: 0.3373 - accuracy: 0.8435 - val_loss: 0.3552 - val_accuracy: 0.8357\n",
      "Epoch 61/64\n",
      "92/92 [==============================] - 4s 43ms/step - loss: 0.3334 - accuracy: 0.8466 - val_loss: 0.3358 - val_accuracy: 0.8449\n",
      "Epoch 62/64\n",
      "92/92 [==============================] - 4s 43ms/step - loss: 0.3347 - accuracy: 0.8472 - val_loss: 0.3342 - val_accuracy: 0.8408\n",
      "Epoch 63/64\n",
      "92/92 [==============================] - 4s 44ms/step - loss: 0.3319 - accuracy: 0.8489 - val_loss: 0.3345 - val_accuracy: 0.8432\n",
      "Epoch 64/64\n",
      "92/92 [==============================] - 4s 43ms/step - loss: 0.3335 - accuracy: 0.8474 - val_loss: 0.3639 - val_accuracy: 0.8347\n"
     ]
    }
   ],
   "source": [
    "supervised_results = model.fit_binary_classification(X_train, np.array(y_train), epochs=16, batch_size=128, verbose=1, validation_data=[X_test, np.array(y_test)])"
   ]
  },
  {
   "cell_type": "code",
   "execution_count": 12,
   "metadata": {},
   "outputs": [
    {
     "name": "stdout",
     "output_type": "stream",
     "text": [
      "Score: [0.36391377449035645, 0.8346994519233704]\n",
      "Score1: [1.4785882234573364, 0.17820069193840027]\n",
      "Score0: [0.08975138515233994, 0.9961702227592468]\n"
     ]
    }
   ],
   "source": [
    "score = model.evaluate_binary_classification(X_test, np.array(y_test), verbose=0)\n",
    "print(\"Score:\", score)\n",
    "score1 = model.evaluate_binary_classification(X_test_1, np.array(y_test_1), verbose=0)\n",
    "print(\"Score1:\", score1)\n",
    "score0 = model.evaluate_binary_classification(X_test_0, np.array(y_test_0), verbose=0)\n",
    "print(\"Score0:\", score0)"
   ]
  },
  {
   "cell_type": "code",
   "execution_count": null,
   "metadata": {},
   "outputs": [],
   "source": []
  },
  {
   "cell_type": "code",
   "execution_count": null,
   "metadata": {},
   "outputs": [],
   "source": []
  },
  {
   "cell_type": "code",
   "execution_count": null,
   "metadata": {},
   "outputs": [],
   "source": []
  }
 ],
 "metadata": {
  "kernelspec": {
   "display_name": "Python 3 (ipykernel)",
   "language": "python",
   "name": "python3"
  },
  "language_info": {
   "codemirror_mode": {
    "name": "ipython",
    "version": 3
   },
   "file_extension": ".py",
   "mimetype": "text/x-python",
   "name": "python",
   "nbconvert_exporter": "python",
   "pygments_lexer": "ipython3",
   "version": "3.8.10"
  },
  "vscode": {
   "interpreter": {
    "hash": "31f2aee4e71d21fbe5cf8b01ff0e069b9275f58929596ceb00d14d90e3e16cd6"
   }
  }
 },
 "nbformat": 4,
 "nbformat_minor": 4
}
