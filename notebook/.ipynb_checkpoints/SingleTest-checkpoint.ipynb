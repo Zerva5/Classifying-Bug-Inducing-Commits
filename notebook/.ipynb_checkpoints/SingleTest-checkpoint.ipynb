{
 "cells": [
  {
   "cell_type": "code",
   "execution_count": null,
   "metadata": {},
   "outputs": [],
   "source": [
    "import os\n",
    "os.environ['TF_CPP_MIN_LOG_LEVEL'] = '3'\n",
    "os.environ['OMP_NUM_THREADS'] = '3'\n",
    "os.environ['KMP_BLOCKTIME'] = '1'\n",
    "import numpy as np\n",
    "import gc\n",
    "from tqdm.auto import tqdm\n",
    "from dataset import get_labelled, get_unlabelled, _preload, _unload, unlabelled_generator, rendred_unlabelled_generator\n",
    "from render_lookups import render_lookups, render_examples, get_rendered_examples\n",
    "from Commit import CommitFactory\n",
    "from Model import CommitDiffModelFactory\n",
    "import tensorflow as tf\n",
    "import matplotlib.pyplot as plt\n",
    "from matplotlib import ticker"
   ]
  },
  {
   "cell_type": "code",
   "execution_count": 2,
   "metadata": {},
   "outputs": [],
   "source": [
    "##### META PARAMS #####\n",
    "\n",
    "# If these two change, the data must be re-rendered!\n",
    "##########################################\n",
    "\n",
    "#Size / depth / length of each individual context/path\n",
    "CONTEXT_SIZE = 8\n",
    "# CONTEXT_SIZE = 16\n",
    "\n",
    "#Total number of contexts to sample per bag\n",
    "BAG_SIZE = 128\n",
    "# BAG_SIZE = 256\n",
    "\n",
    "##########################################\n",
    "\n",
    "#Encoder to use\n",
    "ENCODER = 0\n",
    "\n",
    "#Size of fixed length vector to encode to\n",
    "OUTPUT_SIZE = 512\n",
    "\n",
    "# Hard limit to filter bags by. Bags which exceed this size won't even be sampled.\n",
    "# Set to None to turn off\n",
    "MAX_BAG_SIZE_FILTER = 2048 * 2\n",
    "\n",
    "#Maximum number of labelled commits to train on\n",
    "MAX_LABELLED_COMMITS = 11776\n",
    "\n",
    "#Maximum number of unlabelled commits to train on\n",
    "MAX_UNLABELLED_COMMITS = 4096 * 2#8 * 8\n",
    "\n",
    "#Batch size for unsupervised training. Higher = faster but more memory required and may(?) reduce quality. Jury's out\n",
    "SIAM_BATCH_SIZE = 1024\n",
    "SIAM_BATCHES_PER_UPDATE = 2\n",
    "\n",
    "SUPERVISED_BATCH_SIZE = 128\n",
    "\n",
    "UNSUPERVISED_EPOCHS = 1024\n",
    "SUPERVISED_EPOCHS = 2048\n",
    "\n",
    "NUM_INITIAL_SEARCHES = 4  #Set to None to skip the search!\n",
    "NUM_EPOCHS_PER_SEARCH = 16"
   ]
  },
  {
   "cell_type": "code",
   "execution_count": 3,
   "metadata": {},
   "outputs": [],
   "source": [
    "Commit = CommitFactory(BAG_SIZE=BAG_SIZE, CONTEXT_SIZE=CONTEXT_SIZE)"
   ]
  },
  {
   "cell_type": "code",
   "execution_count": 4,
   "metadata": {},
   "outputs": [],
   "source": [
    "#You can download these data folders from drive! Unless you want to change the settings.\n",
    "#They go in the data/commit_lookups/\n",
    "\n",
    "# Only run if you need to re-process the raw pickles !!!\n",
    "# render_lookups(BAG_SIZE=BAG_SIZE, CONTEXT_SIZE=CONTEXT_SIZE)"
   ]
  },
  {
   "cell_type": "code",
   "execution_count": 5,
   "metadata": {},
   "outputs": [],
   "source": [
    "# Only run if you need to re-process the raw pickles !!!\n",
    "# render_examples(BAG_SIZE=BAG_SIZE, CONTEXT_SIZE=CONTEXT_SIZE)"
   ]
  },
  {
   "cell_type": "code",
   "execution_count": 6,
   "metadata": {},
   "outputs": [],
   "source": [
    "output_types = (tf.float32, tf.float32)\n",
    "output_shapes = ((BAG_SIZE, CONTEXT_SIZE), (BAG_SIZE, CONTEXT_SIZE))\n",
    "\n",
    "dataset = tf.data.Dataset.from_generator(\n",
    "    rendred_unlabelled_generator,\n",
    "    output_types=output_types,\n",
    "    output_shapes=output_shapes,\n",
    "    args=(BAG_SIZE, CONTEXT_SIZE, MAX_UNLABELLED_COMMITS, MAX_BAG_SIZE_FILTER)\n",
    ")\n",
    "\n",
    "dataset = dataset.batch(SIAM_BATCH_SIZE)"
   ]
  },
  {
   "cell_type": "code",
   "execution_count": 7,
   "metadata": {},
   "outputs": [],
   "source": [
    "CommitDiffModel = CommitDiffModelFactory(BAG_SIZE=BAG_SIZE, CONTEXT_SIZE=CONTEXT_SIZE, OUTPUT_SIZE=OUTPUT_SIZE)"
   ]
  },
  {
   "cell_type": "code",
   "execution_count": 8,
   "metadata": {},
   "outputs": [],
   "source": [
    "model = CommitDiffModel(\n",
    "    supervised_data_size = MAX_LABELLED_COMMITS,\n",
    "    supervised_batch_size = SUPERVISED_BATCH_SIZE,\n",
    "    unsupervised_data_size = MAX_UNLABELLED_COMMITS,\n",
    "    unsupervised_epochs = UNSUPERVISED_EPOCHS,\n",
    "    supervised_epochs = SUPERVISED_EPOCHS,\n",
    "    siam_batch_size = SIAM_BATCH_SIZE,\n",
    "    steps_per_update = SIAM_BATCHES_PER_UPDATE\n",
    ")\n",
    "model.initialize(encoder=0)"
   ]
  },
  {
   "cell_type": "code",
   "execution_count": null,
   "metadata": {},
   "outputs": [],
   "source": [
    "#If a model fails, we can restart it with this! Note: This won't restart the learning_rate schedule, but will help with the history and weights\n",
    "# cached_history = model.reload_saved_siam_model(\"model_3.pkl\", dataset)\n",
    "# Remember to lower the epochs accordingly. Also set NUM_INITIAL_SEARCHES to None!\n",
    "\n",
    "#NOTE: You should back up your checkpoints folder!!!!!!\n",
    "#Since the next run will now overwrite the old files\n",
    "\n",
    "#This cached_history will need to be added to the graphs at the bottom."
   ]
  },
  {
   "cell_type": "code",
   "execution_count": null,
   "metadata": {},
   "outputs": [],
   "source": [
    "unsupervised_data = model.fit_siam_generator(dataset, epochs=UNSUPERVISED_EPOCHS, verbose=1, num_runs=NUM_INITIAL_SEARCHES, run_epochs=NUM_EPOCHS_PER_SEARCH)"
   ]
  },
  {
   "cell_type": "code",
   "execution_count": null,
   "metadata": {},
   "outputs": [],
   "source": [
    "# _preload(max_commits = MAX_LABELLED_COMMITS)"
   ]
  },
  {
   "cell_type": "code",
   "execution_count": 10,
   "metadata": {},
   "outputs": [],
   "source": [
    "#X_train, X_test, y_train, y_test = get_labelled(BAG_SIZE=BAG_SIZE, CONTEXT_SIZE=CONTEXT_SIZE)\n",
    "X_train, X_test, y_train, y_test = get_rendered_examples(balance=True) #You can also set balance=True (!)\n",
    "X_test_1 = [X_test[i] for i in range(len(X_test)) if y_test[i] == 1]\n",
    "y_test_1 = [y_test[i] for i in range(len(X_test)) if y_test[i] == 1]\n",
    "X_test_0 = [X_test[i] for i in range(len(X_test)) if y_test[i] == 0]\n",
    "y_test_0 = [y_test[i] for i in range(len(X_test)) if y_test[i] == 0]"
   ]
  },
  {
   "cell_type": "code",
   "execution_count": null,
   "metadata": {},
   "outputs": [],
   "source": [
    "print(\"Train set size\", len(y_train))\n",
    "print(\"Train set split\", np.sum(y_train)/len(y_train))\n",
    "print(\"Test set size\", len(y_test))\n",
    "print(\"Test set split\", np.sum(y_test)/len(y_test))"
   ]
  },
  {
   "cell_type": "code",
   "execution_count": 12,
   "metadata": {},
   "outputs": [],
   "source": [
    "#For memory optimization\n",
    "#_unload()"
   ]
  },
  {
   "cell_type": "code",
   "execution_count": null,
   "metadata": {},
   "outputs": [],
   "source": [
    "supervised_results = model.fit_binary_classification(X_train, np.array(y_train), epochs=SUPERVISED_EPOCHS, batch_size=SUPERVISED_BATCH_SIZE, verbose=1, validation_data=[X_test, np.array(y_test)])"
   ]
  },
  {
   "cell_type": "code",
   "execution_count": null,
   "metadata": {},
   "outputs": [],
   "source": [
    "score = model.evaluate_binary_classification(X_test, np.array(y_test), verbose=0)\n",
    "print(\"Score:\", score)\n",
    "score1 = model.evaluate_binary_classification(X_test_1, np.array(y_test_1), verbose=0)\n",
    "print(\"Score1:\", score1)\n",
    "score0 = model.evaluate_binary_classification(X_test_0, np.array(y_test_0), verbose=0)\n",
    "print(\"Score0:\", score0)"
   ]
  },
  {
   "cell_type": "code",
   "execution_count": null,
   "metadata": {},
   "outputs": [],
   "source": [
    "history = supervised_results.history\n",
    "epochs = range(1, len(history['accuracy']) + 1)\n",
    "# Create a figure and axis\n",
    "plt.figure(figsize=(12, 8))\n",
    "ax = plt.gca()\n",
    "\n",
    "# Plot training metrics\n",
    "ax.plot(epochs, history['accuracy'], label='Training Accuracy', linestyle='-', color='b')\n",
    "ax.plot(epochs, history['f1_score'], label='Training F1 Score', linestyle='--', color='g')\n",
    "# ax.plot(epochs, history['precision'], label='Training Precision', linestyle='-.', color='r')\n",
    "# ax.plot(epochs, history['recall'], label='Training Recall', linestyle=':', color='c')\n",
    "\n",
    "# Plot validation metrics\n",
    "ax.plot(epochs, history['val_accuracy'], label='Validation Accuracy', linestyle='-', color='b', alpha=0.5)\n",
    "ax.plot(epochs, history['val_f1_score'], label='Validation F1 Score', linestyle='--', color='g', alpha=0.5)\n",
    "# ax.plot(epochs, history['val_precision'], label='Validation Precision', linestyle='-.', color='r', alpha=0.5)\n",
    "# ax.plot(epochs, history['val_recall'], label='Validation Recall', linestyle=':', color='c', alpha=0.5)\n",
    "\n",
    "ax.plot(epochs, history['loss'], label='Training Loss', linestyle=':')\n",
    "\n",
    "# Set labels and title\n",
    "plt.xlabel('Epochs')\n",
    "plt.ylabel('Metrics')\n",
    "plt.title('Training and Validation Metrics')\n",
    "\n",
    "# Show legend and plot\n",
    "plt.legend(loc='best')\n",
    "plt.show()"
   ]
  },
  {
   "cell_type": "code",
   "execution_count": null,
   "metadata": {},
   "outputs": [],
   "source": [
    "history = unsupervised_data.history\n",
    "epochs = range(1, len(history['loss']) + 1)\n",
    "\n",
    "# Plot training loss\n",
    "plt.figure(figsize=(10, 6))\n",
    "plt.plot(epochs, history['loss'], label='Training Loss')\n",
    "plt.xlabel('Epochs')\n",
    "plt.ylabel('Loss')\n",
    "plt.legend()\n",
    "plt.title('Training Loss')\n",
    "plt.xticks([i for i in range(len(epochs)) if (i % (len(epochs) // 6)) == 0], [i + NUM_EPOCHS_PER_SEARCH for i in range(len(epochs)) if (i % (len(epochs) // 6)) == 0])\n",
    "plt.show()"
   ]
  },
  {
   "cell_type": "code",
   "execution_count": null,
   "metadata": {},
   "outputs": [],
   "source": []
  }
 ],
 "metadata": {
  "kernelspec": {
   "display_name": "Python 3 (ipykernel)",
   "language": "python",
   "name": "python3"
  },
  "language_info": {
   "codemirror_mode": {
    "name": "ipython",
    "version": 3
   },
   "file_extension": ".py",
   "mimetype": "text/x-python",
   "name": "python",
   "nbconvert_exporter": "python",
   "pygments_lexer": "ipython3",
   "version": "3.8.10"
  },
  "vscode": {
   "interpreter": {
    "hash": "31f2aee4e71d21fbe5cf8b01ff0e069b9275f58929596ceb00d14d90e3e16cd6"
   }
  }
 },
 "nbformat": 4,
 "nbformat_minor": 4
}
