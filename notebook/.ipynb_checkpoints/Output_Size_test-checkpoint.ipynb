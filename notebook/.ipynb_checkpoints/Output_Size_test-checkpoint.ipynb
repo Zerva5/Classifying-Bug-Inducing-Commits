{
 "cells": [
  {
   "cell_type": "code",
   "execution_count": 1,
   "metadata": {},
   "outputs": [],
   "source": [
    "import os\n",
    "os.environ['TF_CPP_MIN_LOG_LEVEL'] = '3'\n",
    "os.environ['OMP_NUM_THREADS'] = '3' \n",
    "os.environ['KMP_BLOCKTIME'] = '1'\n",
    "import numpy as np\n",
    "import gc\n",
    "from tqdm.auto import tqdm\n",
    "from dataset import get_labelled, get_unlabelled, _preload, _unload\n",
    "from Commit import CommitFactory\n",
    "from Model import CommitDiffModelFactory"
   ]
  },
  {
   "cell_type": "code",
   "execution_count": 2,
   "metadata": {},
   "outputs": [],
   "source": [
    "##### META PARAMS #####\n",
    "\n",
    "#Size / depth / length of each individual context/path\n",
    "CONTEXT_SIZE = 16\n",
    "\n",
    "#Total number of contexts to sample per bag\n",
    "BAG_SIZE = 256\n",
    "\n",
    "#Size of fixed length vector to encode to\n",
    "OUTPUT_SIZE = 512\n",
    "\n",
    "# Hard limit to filter bags by. Bags which exceed this size won't even be sampled.\n",
    "# Set to None to turn off\n",
    "MAX_BAG_SIZE_FILTER = 2048 * 4\n",
    "\n",
    "#Maximum number of labelled commits to train on\n",
    "MAX_LABELLED_COMMITS = 2048 * 8\n",
    "\n",
    "#Maximum number of unlabelled commits to train on\n",
    "MAX_UNLABELLED_COMMITS = 2048 * 8\n",
    "\n",
    "#Batch size for unsupervised training. Higher = faster/better but more memory required\n",
    "SIAM_BATCH_SIZE = 64"
   ]
  },
  {
   "cell_type": "code",
   "execution_count": 3,
   "metadata": {},
   "outputs": [],
   "source": [
    "Commit = CommitFactory(BAG_SIZE=BAG_SIZE, CONTEXT_SIZE=CONTEXT_SIZE)\n",
    "CommitDiffModel = CommitDiffModelFactory(BAG_SIZE=BAG_SIZE, CONTEXT_SIZE=CONTEXT_SIZE, OUTPUT_SIZE=OUTPUT_SIZE)"
   ]
  },
  {
   "cell_type": "code",
   "execution_count": 4,
   "metadata": {},
   "outputs": [
    {
     "name": "stdout",
     "output_type": "stream",
     "text": [
      "Loading Commit lookup table\n"
     ]
    },
    {
     "data": {
      "application/vnd.jupyter.widget-view+json": {
       "model_id": "1a6887f2ab344b87a61c123866a3c846",
       "version_major": 2,
       "version_minor": 0
      },
      "text/plain": [
       "Loading commit lookups:   0%|          | 0/16384 [00:00<?, ?it/s]"
      ]
     },
     "metadata": {},
     "output_type": "display_data"
    },
    {
     "name": "stdout",
     "output_type": "stream",
     "text": [
      "Loading file ../data/commit_lookups/labelled/01_priority_commit_lookups.pickle\n",
      "Appending pickle of length: 7549 , new dict length: 6906\n",
      "Loading file ../data/commit_lookups/labelled/02_priority_commit_lookups.pickle\n",
      "Appending pickle of length: 10410 , new dict length: 9517\n",
      "Loading file ../data/commit_lookups/labelled/03_priority_commit_lookups.pickle\n",
      "Appending pickle of length: 7246 , new dict length: 12646\n"
     ]
    }
   ],
   "source": [
    "_preload(max_commit_bag_size = MAX_BAG_SIZE_FILTER, max_commits = MAX_LABELLED_COMMITS)"
   ]
  },
  {
   "cell_type": "code",
   "execution_count": 5,
   "metadata": {},
   "outputs": [
    {
     "data": {
      "application/vnd.jupyter.widget-view+json": {
       "model_id": "ed598fd8ffeb41d7b58ef88519901e61",
       "version_major": 2,
       "version_minor": 0
      },
      "text/plain": [
       "Generating apache_positive_pairs X_train and y_train:   0%|          | 0/2264 [00:00<?, ?it/s]"
      ]
     },
     "metadata": {},
     "output_type": "display_data"
    },
    {
     "data": {
      "application/vnd.jupyter.widget-view+json": {
       "model_id": "6100993ab8a84a55886d869bce4c21f5",
       "version_major": 2,
       "version_minor": 0
      },
      "text/plain": [
       "Generating apache_negative_pairs X_train and y_train:   0%|          | 0/9511 [00:00<?, ?it/s]"
      ]
     },
     "metadata": {},
     "output_type": "display_data"
    }
   ],
   "source": [
    "X_train, X_test, y_train, y_test = get_labelled(BAG_SIZE=BAG_SIZE, CONTEXT_SIZE=CONTEXT_SIZE, balance=True)"
   ]
  },
  {
   "cell_type": "code",
   "execution_count": 6,
   "metadata": {},
   "outputs": [
    {
     "data": {
      "application/vnd.jupyter.widget-view+json": {
       "model_id": "e3ad85e06c2541088e04aaaf45a60df4",
       "version_major": 2,
       "version_minor": 0
      },
      "text/plain": [
       "Generating Unsupervised X_train:   0%|          | 0/12646 [00:00<?, ?it/s]"
      ]
     },
     "metadata": {},
     "output_type": "display_data"
    }
   ],
   "source": [
    "X_train_unsupervised = get_unlabelled(BAG_SIZE=BAG_SIZE, CONTEXT_SIZE=CONTEXT_SIZE)"
   ]
  },
  {
   "cell_type": "code",
   "execution_count": 7,
   "metadata": {},
   "outputs": [
    {
     "name": "stdout",
     "output_type": "stream",
     "text": [
      "Train set size 3622\n",
      "Train set split 0.507454445057979\n",
      "Test set size 906\n",
      "Test set split 0.47019867549668876\n",
      "Unsupervised Train Size 12646\n"
     ]
    }
   ],
   "source": [
    "print(\"Train set size\", len(y_train))\n",
    "print(\"Train set split\", np.sum(y_train)/len(y_train))\n",
    "print(\"Test set size\", len(y_test))\n",
    "print(\"Test set split\", np.sum(y_test)/len(y_test))\n",
    "print(\"Unsupervised Train Size\", len(X_train_unsupervised))"
   ]
  },
  {
   "cell_type": "code",
   "execution_count": 8,
   "metadata": {},
   "outputs": [],
   "source": [
    "_unload()"
   ]
  },
  {
   "cell_type": "code",
   "execution_count": 9,
   "metadata": {
    "scrolled": false
   },
   "outputs": [
    {
     "data": {
      "application/vnd.jupyter.widget-view+json": {
       "model_id": "83a8b4c48e614b119bbbf58fe0437fba",
       "version_major": 2,
       "version_minor": 0
      },
      "text/plain": [
       "  0%|          | 0/7 [00:00<?, ?it/s]"
      ]
     },
     "metadata": {},
     "output_type": "display_data"
    },
    {
     "name": "stdout",
     "output_type": "stream",
     "text": [
      "Epoch 1/8\n",
      "198/198 [==============================] - 45s 226ms/step - loss: -0.3699\n",
      "Epoch 2/8\n",
      "198/198 [==============================] - 45s 228ms/step - loss: -0.5151\n",
      "Epoch 3/8\n",
      "198/198 [==============================] - 45s 228ms/step - loss: -0.5848\n",
      "Epoch 4/8\n",
      "198/198 [==============================] - 45s 227ms/step - loss: -0.6142\n",
      "Epoch 5/8\n",
      "198/198 [==============================] - 45s 227ms/step - loss: -0.6009\n",
      "Epoch 6/8\n",
      "198/198 [==============================] - 45s 227ms/step - loss: -0.5906\n",
      "Epoch 7/8\n",
      "198/198 [==============================] - 45s 228ms/step - loss: -0.5906\n",
      "Epoch 8/8\n",
      "198/198 [==============================] - 45s 227ms/step - loss: -0.5931\n",
      "Epoch 1/8\n",
      "906/906 [==============================] - 14s 14ms/step - loss: 0.6731\n",
      "Epoch 2/8\n",
      "906/906 [==============================] - 13s 14ms/step - loss: 0.5131\n",
      "Epoch 3/8\n",
      "906/906 [==============================] - 13s 14ms/step - loss: 0.4955\n",
      "Epoch 4/8\n",
      "906/906 [==============================] - 13s 14ms/step - loss: 0.4880\n",
      "Epoch 5/8\n",
      "906/906 [==============================] - 13s 14ms/step - loss: 0.4833\n",
      "Epoch 6/8\n",
      "906/906 [==============================] - 13s 14ms/step - loss: 0.4739\n",
      "Epoch 7/8\n",
      "906/906 [==============================] - 13s 14ms/step - loss: 0.4670\n",
      "Epoch 8/8\n",
      "906/906 [==============================] - 13s 14ms/step - loss: 0.4644\n",
      "OUTPUT_SIZE: 16\n",
      "Score: 0.4701959490776062\n",
      "------------------------------------------\n",
      "Epoch 1/8\n",
      "198/198 [==============================] - 45s 225ms/step - loss: -0.5112\n",
      "Epoch 2/8\n",
      "198/198 [==============================] - 45s 226ms/step - loss: -0.6752\n",
      "Epoch 3/8\n",
      "198/198 [==============================] - 45s 225ms/step - loss: -0.6578\n",
      "Epoch 4/8\n",
      "198/198 [==============================] - 45s 225ms/step - loss: -0.6328\n",
      "Epoch 5/8\n",
      "198/198 [==============================] - 45s 225ms/step - loss: -0.6448\n",
      "Epoch 6/8\n",
      "198/198 [==============================] - 45s 225ms/step - loss: -0.6448\n",
      "Epoch 7/8\n",
      "198/198 [==============================] - 45s 225ms/step - loss: -0.6211\n",
      "Epoch 8/8\n",
      "198/198 [==============================] - 45s 225ms/step - loss: -0.6124\n",
      "Epoch 1/8\n",
      "906/906 [==============================] - 14s 14ms/step - loss: 0.6895\n",
      "Epoch 2/8\n",
      "906/906 [==============================] - 13s 14ms/step - loss: 0.5082\n",
      "Epoch 3/8\n",
      "906/906 [==============================] - 13s 14ms/step - loss: 0.4905\n",
      "Epoch 4/8\n",
      "906/906 [==============================] - 13s 14ms/step - loss: 0.4902\n",
      "Epoch 5/8\n",
      "906/906 [==============================] - 13s 14ms/step - loss: 0.4884\n",
      "Epoch 6/8\n",
      "906/906 [==============================] - 13s 14ms/step - loss: 0.4829\n",
      "Epoch 7/8\n",
      "906/906 [==============================] - 13s 14ms/step - loss: 0.4699\n",
      "Epoch 8/8\n",
      "906/906 [==============================] - 13s 14ms/step - loss: 0.4763\n",
      "OUTPUT_SIZE: 32\n",
      "Score: 0.49415454268455505\n",
      "------------------------------------------\n",
      "Epoch 1/8\n",
      "198/198 [==============================] - 45s 226ms/step - loss: -0.3377\n",
      "Epoch 2/8\n",
      "198/198 [==============================] - 45s 226ms/step - loss: -0.5403\n",
      "Epoch 3/8\n",
      "198/198 [==============================] - 45s 227ms/step - loss: -0.5693\n",
      "Epoch 4/8\n",
      "198/198 [==============================] - 45s 226ms/step - loss: -0.5763\n",
      "Epoch 5/8\n",
      "198/198 [==============================] - 45s 227ms/step - loss: -0.5778\n",
      "Epoch 6/8\n",
      "198/198 [==============================] - 45s 227ms/step - loss: -0.5607\n",
      "Epoch 7/8\n",
      "198/198 [==============================] - 45s 226ms/step - loss: -0.5581\n",
      "Epoch 8/8\n",
      "198/198 [==============================] - 45s 226ms/step - loss: -0.5652\n",
      "Epoch 1/8\n",
      "906/906 [==============================] - 14s 14ms/step - loss: 0.6560\n",
      "Epoch 2/8\n",
      "906/906 [==============================] - 13s 14ms/step - loss: 0.5043\n",
      "Epoch 3/8\n",
      "906/906 [==============================] - 13s 14ms/step - loss: 0.4896\n",
      "Epoch 4/8\n",
      "906/906 [==============================] - 13s 14ms/step - loss: 0.4874\n",
      "Epoch 5/8\n",
      "906/906 [==============================] - 13s 14ms/step - loss: 0.4841\n",
      "Epoch 6/8\n",
      "906/906 [==============================] - 13s 14ms/step - loss: 0.4805\n",
      "Epoch 7/8\n",
      "906/906 [==============================] - 13s 15ms/step - loss: 0.4690\n",
      "Epoch 8/8\n",
      "906/906 [==============================] - 13s 14ms/step - loss: 0.4643\n",
      "OUTPUT_SIZE: 64\n",
      "Score: 0.5024657845497131\n",
      "------------------------------------------\n",
      "Epoch 1/8\n",
      "198/198 [==============================] - 45s 227ms/step - loss: -0.2550\n",
      "Epoch 2/8\n",
      "198/198 [==============================] - 45s 227ms/step - loss: -0.4985\n",
      "Epoch 3/8\n",
      "198/198 [==============================] - 45s 227ms/step - loss: -0.5700\n",
      "Epoch 4/8\n",
      "198/198 [==============================] - 45s 227ms/step - loss: -0.6120\n",
      "Epoch 5/8\n",
      "198/198 [==============================] - 45s 227ms/step - loss: -0.6101\n",
      "Epoch 6/8\n",
      "198/198 [==============================] - 45s 226ms/step - loss: -0.5880\n",
      "Epoch 7/8\n",
      "198/198 [==============================] - 45s 226ms/step - loss: -0.5776\n",
      "Epoch 8/8\n",
      "198/198 [==============================] - 45s 227ms/step - loss: -0.5777\n",
      "Epoch 1/8\n",
      "906/906 [==============================] - 14s 15ms/step - loss: 0.7031\n",
      "Epoch 2/8\n",
      "906/906 [==============================] - 14s 15ms/step - loss: 0.5371\n",
      "Epoch 3/8\n",
      "906/906 [==============================] - 14s 15ms/step - loss: 0.4977\n",
      "Epoch 4/8\n",
      "906/906 [==============================] - 13s 15ms/step - loss: 0.4932\n",
      "Epoch 5/8\n",
      "906/906 [==============================] - 14s 15ms/step - loss: 0.4878\n",
      "Epoch 6/8\n",
      "906/906 [==============================] - 14s 15ms/step - loss: 0.4828\n",
      "Epoch 7/8\n",
      "906/906 [==============================] - 14s 15ms/step - loss: 0.4784\n",
      "Epoch 8/8\n",
      "906/906 [==============================] - 14s 15ms/step - loss: 0.4760\n",
      "OUTPUT_SIZE: 128\n",
      "Score: 0.4665232002735138\n",
      "------------------------------------------\n",
      "Epoch 1/8\n",
      "198/198 [==============================] - 46s 231ms/step - loss: -0.3088\n",
      "Epoch 2/8\n",
      "198/198 [==============================] - 46s 231ms/step - loss: -0.4788\n",
      "Epoch 3/8\n",
      "198/198 [==============================] - 46s 231ms/step - loss: -0.5255\n",
      "Epoch 4/8\n",
      "198/198 [==============================] - 46s 230ms/step - loss: -0.5540\n",
      "Epoch 5/8\n",
      "198/198 [==============================] - 46s 231ms/step - loss: -0.5550\n",
      "Epoch 6/8\n",
      "198/198 [==============================] - 46s 230ms/step - loss: -0.5476\n",
      "Epoch 7/8\n",
      "198/198 [==============================] - 46s 230ms/step - loss: -0.5469\n",
      "Epoch 8/8\n",
      "198/198 [==============================] - 46s 230ms/step - loss: -0.5389\n",
      "Epoch 1/8\n",
      "906/906 [==============================] - 16s 17ms/step - loss: 0.6727\n",
      "Epoch 2/8\n",
      "906/906 [==============================] - 15s 17ms/step - loss: 0.5053\n",
      "Epoch 3/8\n",
      "906/906 [==============================] - 15s 17ms/step - loss: 0.4918\n",
      "Epoch 4/8\n",
      "906/906 [==============================] - 15s 17ms/step - loss: 0.4926\n",
      "Epoch 5/8\n",
      "906/906 [==============================] - 15s 17ms/step - loss: 0.4817\n",
      "Epoch 6/8\n",
      "906/906 [==============================] - 15s 17ms/step - loss: 0.4760\n",
      "Epoch 7/8\n",
      "906/906 [==============================] - 15s 17ms/step - loss: 0.4690\n",
      "Epoch 8/8\n",
      "906/906 [==============================] - 15s 17ms/step - loss: 0.4640\n",
      "OUTPUT_SIZE: 256\n",
      "Score: 0.47916552424430847\n",
      "------------------------------------------\n",
      "Epoch 1/8\n",
      "198/198 [==============================] - 47s 236ms/step - loss: -0.3079\n",
      "Epoch 2/8\n",
      "198/198 [==============================] - 47s 237ms/step - loss: -0.4894\n",
      "Epoch 3/8\n",
      "198/198 [==============================] - 47s 235ms/step - loss: -0.5326\n",
      "Epoch 4/8\n",
      "198/198 [==============================] - 47s 235ms/step - loss: -0.5501\n",
      "Epoch 5/8\n",
      "198/198 [==============================] - 47s 235ms/step - loss: -0.5669\n",
      "Epoch 6/8\n",
      "198/198 [==============================] - 47s 235ms/step - loss: -0.5781\n",
      "Epoch 7/8\n",
      "198/198 [==============================] - 47s 235ms/step - loss: -0.5857\n",
      "Epoch 8/8\n",
      "198/198 [==============================] - 47s 235ms/step - loss: -0.5930\n",
      "Epoch 1/8\n",
      "906/906 [==============================] - 18s 19ms/step - loss: 0.6806\n",
      "Epoch 2/8\n",
      "906/906 [==============================] - 17s 19ms/step - loss: 0.5053\n",
      "Epoch 3/8\n",
      "906/906 [==============================] - 17s 19ms/step - loss: 0.4855\n",
      "Epoch 4/8\n",
      "906/906 [==============================] - 17s 19ms/step - loss: 0.4772\n",
      "Epoch 5/8\n",
      "906/906 [==============================] - 17s 19ms/step - loss: 0.4672\n",
      "Epoch 6/8\n",
      "906/906 [==============================] - 17s 19ms/step - loss: 0.4665\n",
      "Epoch 7/8\n",
      "906/906 [==============================] - 17s 19ms/step - loss: 0.4644\n",
      "Epoch 8/8\n",
      "906/906 [==============================] - 17s 19ms/step - loss: 0.4602\n",
      "OUTPUT_SIZE: 512\n",
      "Score: 0.4854850769042969\n",
      "------------------------------------------\n",
      "Epoch 1/8\n",
      "198/198 [==============================] - 48s 244ms/step - loss: -0.3059\n",
      "Epoch 2/8\n",
      "198/198 [==============================] - 49s 245ms/step - loss: -0.4469\n",
      "Epoch 3/8\n",
      "198/198 [==============================] - 55s 278ms/step - loss: -0.4728\n",
      "Epoch 4/8\n",
      "198/198 [==============================] - 48s 244ms/step - loss: -0.4759\n",
      "Epoch 5/8\n",
      "198/198 [==============================] - 48s 243ms/step - loss: -0.4857\n",
      "Epoch 6/8\n",
      "198/198 [==============================] - 48s 244ms/step - loss: -0.4887\n",
      "Epoch 7/8\n",
      "198/198 [==============================] - 48s 243ms/step - loss: -0.4869\n",
      "Epoch 8/8\n",
      "198/198 [==============================] - 48s 243ms/step - loss: -0.4881\n",
      "Epoch 1/8\n",
      "906/906 [==============================] - 22s 23ms/step - loss: 0.6772\n",
      "Epoch 2/8\n",
      "906/906 [==============================] - 21s 23ms/step - loss: 0.5045\n",
      "Epoch 3/8\n",
      "906/906 [==============================] - 21s 23ms/step - loss: 0.4914\n",
      "Epoch 4/8\n",
      "906/906 [==============================] - 21s 23ms/step - loss: 0.4926\n",
      "Epoch 5/8\n",
      "906/906 [==============================] - 23s 25ms/step - loss: 0.4814\n",
      "Epoch 6/8\n",
      "906/906 [==============================] - 21s 23ms/step - loss: 0.4775\n",
      "Epoch 7/8\n",
      "906/906 [==============================] - 23s 25ms/step - loss: 0.4730\n",
      "Epoch 8/8\n",
      "906/906 [==============================] - 22s 25ms/step - loss: 0.4706\n",
      "OUTPUT_SIZE: 1024\n",
      "Score: 0.47811368107795715\n",
      "------------------------------------------\n"
     ]
    }
   ],
   "source": [
    "for OUTPUT_SIZE in tqdm([16, 32, 64, 128, 256, 512, 1024]):\n",
    "    try:\n",
    "        CommitDiffModel = CommitDiffModelFactory(BAG_SIZE=BAG_SIZE, CONTEXT_SIZE=CONTEXT_SIZE, OUTPUT_SIZE=OUTPUT_SIZE)\n",
    "        model = CommitDiffModel(unsupervised_data_size = len(X_train_unsupervised), siam_batch_size = SIAM_BATCH_SIZE)\n",
    "        model.initialize(encoder=5)\n",
    "        model.fit_siam(np.array(X_train_unsupervised), epochs=8, verbose=1)\n",
    "        model.fit_binary_classification(X_train, np.array(y_train), epochs=8, batch_size=4, verbose=1)\n",
    "        score = model.evaluate_binary_classification(X_test, np.array(y_test), verbose=0)\n",
    "        print(\"OUTPUT_SIZE:\", OUTPUT_SIZE)\n",
    "        print(\"Score:\", score)\n",
    "    except Exception as e:\n",
    "        print(e)\n",
    "    print(\"------------------------------------------\")\n",
    "    del model\n",
    "    gc.collect()"
   ]
  },
  {
   "cell_type": "code",
   "execution_count": 10,
   "metadata": {},
   "outputs": [
    {
     "data": {
      "application/vnd.jupyter.widget-view+json": {
       "model_id": "85001bb9e7a549539dc92c228e25a2dc",
       "version_major": 2,
       "version_minor": 0
      },
      "text/plain": [
       "  0%|          | 0/3 [00:00<?, ?it/s]"
      ]
     },
     "metadata": {},
     "output_type": "display_data"
    },
    {
     "name": "stdout",
     "output_type": "stream",
     "text": [
      "Epoch 1/8\n",
      "198/198 [==============================] - 56s 282ms/step - loss: -0.2391\n",
      "Epoch 2/8\n",
      "198/198 [==============================] - 54s 272ms/step - loss: -0.4442\n",
      "Epoch 3/8\n",
      "198/198 [==============================] - 55s 278ms/step - loss: -0.5023\n",
      "Epoch 4/8\n",
      "198/198 [==============================] - 55s 280ms/step - loss: -0.5289\n",
      "Epoch 5/8\n",
      "198/198 [==============================] - 55s 280ms/step - loss: -0.5431\n",
      "Epoch 6/8\n",
      "198/198 [==============================] - 55s 278ms/step - loss: -0.5527\n",
      "Epoch 7/8\n",
      "198/198 [==============================] - 56s 281ms/step - loss: -0.5592\n",
      "Epoch 8/8\n",
      "198/198 [==============================] - 56s 282ms/step - loss: -0.5623\n",
      "Epoch 1/8\n",
      "906/906 [==============================] - 32s 34ms/step - loss: 0.7110\n",
      "Epoch 2/8\n",
      "906/906 [==============================] - 31s 34ms/step - loss: 0.5726\n",
      "Epoch 3/8\n",
      "906/906 [==============================] - 31s 35ms/step - loss: 0.4995\n",
      "Epoch 4/8\n",
      "906/906 [==============================] - 31s 34ms/step - loss: 0.5026\n",
      "Epoch 5/8\n",
      "906/906 [==============================] - 31s 34ms/step - loss: 0.4967\n",
      "Epoch 6/8\n",
      "906/906 [==============================] - 31s 34ms/step - loss: 0.4991\n",
      "Epoch 7/8\n",
      "906/906 [==============================] - 31s 34ms/step - loss: 0.5001\n",
      "Epoch 8/8\n",
      "906/906 [==============================] - 31s 34ms/step - loss: 0.4926\n",
      "OUTPUT_SIZE: 2048\n",
      "Score: 0.4744725525379181\n",
      "------------------------------------------\n",
      "Epoch 1/8\n",
      "198/198 [==============================] - 80s 406ms/step - loss: -0.2259\n",
      "Epoch 2/8\n",
      "198/198 [==============================] - 81s 408ms/step - loss: -0.4469\n",
      "Epoch 3/8\n",
      "198/198 [==============================] - 81s 408ms/step - loss: -0.5110\n",
      "Epoch 4/8\n",
      "198/198 [==============================] - 81s 408ms/step - loss: -0.5310\n",
      "Epoch 5/8\n",
      "198/198 [==============================] - 80s 406ms/step - loss: -0.5382\n",
      "Epoch 6/8\n",
      "198/198 [==============================] - 81s 410ms/step - loss: -0.5433\n",
      "Epoch 7/8\n",
      "198/198 [==============================] - 81s 410ms/step - loss: -0.5482\n",
      "Epoch 8/8\n",
      "198/198 [==============================] - 81s 409ms/step - loss: -0.5522\n",
      "Epoch 1/8\n",
      "906/906 [==============================] - 57s 62ms/step - loss: 0.7123\n",
      "Epoch 2/8\n",
      "906/906 [==============================] - 56s 62ms/step - loss: 0.7026\n",
      "Epoch 3/8\n",
      "906/906 [==============================] - 57s 62ms/step - loss: 0.7000\n",
      "Epoch 4/8\n",
      "906/906 [==============================] - 56s 62ms/step - loss: 0.7021\n",
      "Epoch 5/8\n",
      "906/906 [==============================] - 56s 62ms/step - loss: 0.6992\n",
      "Epoch 6/8\n",
      "906/906 [==============================] - 56s 62ms/step - loss: 0.7022\n",
      "Epoch 7/8\n",
      "906/906 [==============================] - 56s 62ms/step - loss: 0.7010\n",
      "Epoch 8/8\n",
      "906/906 [==============================] - 57s 62ms/step - loss: 0.7006\n",
      "OUTPUT_SIZE: 4096\n",
      "Score: 0.6999950408935547\n",
      "------------------------------------------\n",
      "Epoch 1/8\n",
      "198/198 [==============================] - 173s 875ms/step - loss: -0.2044\n",
      "Epoch 2/8\n",
      "198/198 [==============================] - 177s 897ms/step - loss: -0.4313\n",
      "Epoch 3/8\n",
      "198/198 [==============================] - 179s 907ms/step - loss: -0.5056\n",
      "Epoch 4/8\n",
      "198/198 [==============================] - 176s 888ms/step - loss: -0.5366\n",
      "Epoch 5/8\n",
      "198/198 [==============================] - 176s 890ms/step - loss: -0.5493\n",
      "Epoch 6/8\n",
      "198/198 [==============================] - 184s 931ms/step - loss: -0.5555\n",
      "Epoch 7/8\n",
      "198/198 [==============================] - 182s 920ms/step - loss: -0.5579\n",
      "Epoch 8/8\n",
      "198/198 [==============================] - 184s 931ms/step - loss: -0.5590\n",
      "Epoch 1/8\n",
      "906/906 [==============================] - 103s 113ms/step - loss: 0.7031\n",
      "Epoch 2/8\n",
      "906/906 [==============================] - 102s 113ms/step - loss: 0.7007\n",
      "Epoch 3/8\n",
      "906/906 [==============================] - 103s 113ms/step - loss: 0.6996\n",
      "Epoch 4/8\n",
      "906/906 [==============================] - 103s 113ms/step - loss: 0.7059\n",
      "Epoch 5/8\n",
      "906/906 [==============================] - 103s 114ms/step - loss: 0.6987\n",
      "Epoch 6/8\n",
      "906/906 [==============================] - 103s 114ms/step - loss: 0.7007\n",
      "Epoch 7/8\n",
      "906/906 [==============================] - 103s 114ms/step - loss: 0.7026\n",
      "Epoch 8/8\n",
      "906/906 [==============================] - 104s 115ms/step - loss: 0.7006\n",
      "OUTPUT_SIZE: 8192\n",
      "Score: 0.7050160765647888\n",
      "------------------------------------------\n"
     ]
    }
   ],
   "source": [
    "for OUTPUT_SIZE in tqdm([2048, 4096, 4096*2]):\n",
    "    try:\n",
    "        CommitDiffModel = CommitDiffModelFactory(BAG_SIZE=BAG_SIZE, CONTEXT_SIZE=CONTEXT_SIZE, OUTPUT_SIZE=OUTPUT_SIZE)\n",
    "        model = CommitDiffModel(unsupervised_data_size = len(X_train_unsupervised), siam_batch_size = SIAM_BATCH_SIZE)\n",
    "        model.initialize(encoder=5)\n",
    "        model.fit_siam(np.array(X_train_unsupervised), epochs=8, verbose=1)\n",
    "        model.fit_binary_classification(X_train, np.array(y_train), epochs=8, batch_size=4, verbose=1)\n",
    "        score = model.evaluate_binary_classification(X_test, np.array(y_test), verbose=0)\n",
    "        print(\"OUTPUT_SIZE:\", OUTPUT_SIZE)\n",
    "        print(\"Score:\", score)\n",
    "    except Exception as e:\n",
    "        print(e)\n",
    "    print(\"------------------------------------------\")\n",
    "    del model\n",
    "    gc.collect()"
   ]
  },
  {
   "cell_type": "code",
   "execution_count": null,
   "metadata": {},
   "outputs": [],
   "source": []
  },
  {
   "cell_type": "code",
   "execution_count": null,
   "metadata": {},
   "outputs": [],
   "source": []
  }
 ],
 "metadata": {
  "kernelspec": {
   "display_name": "Python 3 (ipykernel)",
   "language": "python",
   "name": "python3"
  },
  "language_info": {
   "codemirror_mode": {
    "name": "ipython",
    "version": 3
   },
   "file_extension": ".py",
   "mimetype": "text/x-python",
   "name": "python",
   "nbconvert_exporter": "python",
   "pygments_lexer": "ipython3",
   "version": "3.10.6"
  },
  "vscode": {
   "interpreter": {
    "hash": "31f2aee4e71d21fbe5cf8b01ff0e069b9275f58929596ceb00d14d90e3e16cd6"
   }
  }
 },
 "nbformat": 4,
 "nbformat_minor": 4
}
